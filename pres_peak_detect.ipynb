{
 "cells": [
  {
   "cell_type": "code",
   "execution_count": 1,
   "id": "eaabeeb5-6b9c-4b53-9ab2-73651827a4aa",
   "metadata": {},
   "outputs": [],
   "source": [
    "import time\n",
    "import os\n",
    "import numpy as np\n",
    "import pandas as pd\n",
    "from module import in_fun\n",
    "from matplotlib import pyplot as plt\n",
    "from module.torch import BinaryClassifier\n",
    "from datetime import datetime\n",
    "\n",
    "%matplotlib widget"
   ]
  },
  {
   "cell_type": "code",
   "execution_count": 2,
   "id": "12ff7beb-afff-4602-af87-69e6e7993b8b",
   "metadata": {},
   "outputs": [
    {
     "name": "stdout",
     "output_type": "stream",
     "text": [
      "['note20.csv', 's20.csv']\n"
     ]
    }
   ],
   "source": [
    "data_path = \"data/pressure/210503/ex01/\"\n",
    "file_list = os.listdir(data_path)\n",
    "file_list_csv = [file for file in file_list if file.endswith(\".csv\")]\n",
    "print(file_list_csv)"
   ]
  },
  {
   "cell_type": "code",
   "execution_count": 3,
   "id": "44f81b73-66dd-4057-aaa2-1f6bf9341692",
   "metadata": {},
   "outputs": [],
   "source": [
    "data_list = []\n",
    "for file_csv in file_list_csv:\n",
    "    data_list.append(pd.read_csv(\n",
    "            data_path + file_csv,\n",
    "            header=None, low_memory=False\n",
    "        ).to_numpy())"
   ]
  },
  {
   "cell_type": "code",
   "execution_count": 4,
   "id": "c0fe9489-89d4-4704-b836-ac96b288939e",
   "metadata": {},
   "outputs": [
    {
     "data": {
      "application/vnd.jupyter.widget-view+json": {
       "model_id": "5fb615babc29423c9d9e50cee2133465",
       "version_major": 2,
       "version_minor": 0
      },
      "text/plain": [
       "Canvas(toolbar=Toolbar(toolitems=[('Home', 'Reset original view', 'home', 'home'), ('Back', 'Back to previous …"
      ]
     },
     "metadata": {},
     "output_type": "display_data"
    },
    {
     "data": {
      "text/plain": [
       "<matplotlib.legend.Legend at 0x7fd608bebeb0>"
      ]
     },
     "execution_count": 4,
     "metadata": {},
     "output_type": "execute_result"
    }
   ],
   "source": [
    "data_list[0][:,22] = data_list[0][:,22]- 0.64\n",
    "plt.figure()\n",
    "for idx, data in enumerate(data_list):\n",
    "    plt.scatter(pd.to_datetime(data[:,0]/1000, unit='s'), data[:,22], label = file_list_csv[idx], s=0.1)\n",
    "plt.legend()"
   ]
  },
  {
   "cell_type": "code",
   "execution_count": 5,
   "id": "d26c369d-ceb7-44b9-9f17-cac1345df45b",
   "metadata": {},
   "outputs": [
    {
     "data": {
      "application/vnd.jupyter.widget-view+json": {
       "model_id": "c2fc53fea3814007a0f59fae63d2eb8b",
       "version_major": 2,
       "version_minor": 0
      },
      "text/plain": [
       "Canvas(toolbar=Toolbar(toolitems=[('Home', 'Reset original view', 'home', 'home'), ('Back', 'Back to previous …"
      ]
     },
     "metadata": {},
     "output_type": "display_data"
    },
    {
     "data": {
      "text/plain": [
       "<matplotlib.legend.Legend at 0x7fd60643fb80>"
      ]
     },
     "execution_count": 5,
     "metadata": {},
     "output_type": "execute_result"
    }
   ],
   "source": [
    "plt.figure()\n",
    "for idx, data in enumerate(data_list):\n",
    "    plt.scatter(pd.to_datetime(data[:,0]/1000, unit='s'), np.sum(data[:,1:4]**2, axis =1), label = file_list_csv[idx], s=0.1)\n",
    "plt.legend()"
   ]
  },
  {
   "cell_type": "code",
   "execution_count": 6,
   "id": "0766e74b-2535-4a37-b2aa-e1dc8711fbfe",
   "metadata": {},
   "outputs": [
    {
     "name": "stdout",
     "output_type": "stream",
     "text": [
      "2021-04-28 08:18:20\n",
      "1619597900.0\n",
      "2021-04-28 09:20:00\n",
      "1619601600.0\n",
      "(7214, 193)\n",
      "(7214, 193)\n",
      "(7054, 193)\n",
      "(7054, 193)\n"
     ]
    }
   ],
   "source": [
    "start_time = datetime(2021, 4, 28, hour=8, minute=18, second=20)\n",
    "end_time = datetime(2021, 4, 28, hour=9, minute=20, second=0)\n",
    "start_timestamp = time.mktime(start_time.timetuple())\n",
    "end_timestamp = time.mktime(end_time.timetuple())\n",
    "print(start_time)\n",
    "print(start_timestamp)\n",
    "print(end_time)\n",
    "print(end_timestamp)\n",
    "for idx in np.arange(len(data_list)):\n",
    "    print(np.shape(data_list[idx]))\n",
    "    #data_list[idx] = data_list[idx][data_list[idx][:,0] >= start_timestamp * 1000]\n",
    "#     data_list[idx] = data_list[idx][data_list[idx][:,0] <= end_timestamp * 1000]\n",
    "    \n",
    "    print(np.shape(data_list[idx]))"
   ]
  },
  {
   "cell_type": "code",
   "execution_count": 7,
   "id": "4b1b55dd-a4cf-4ad7-ba46-92ea71a2c64a",
   "metadata": {},
   "outputs": [
    {
     "data": {
      "application/vnd.jupyter.widget-view+json": {
       "model_id": "44389d101c8341a384577d2d5640e9d4",
       "version_major": 2,
       "version_minor": 0
      },
      "text/plain": [
       "Canvas(toolbar=Toolbar(toolitems=[('Home', 'Reset original view', 'home', 'home'), ('Back', 'Back to previous …"
      ]
     },
     "metadata": {},
     "output_type": "display_data"
    },
    {
     "data": {
      "text/plain": [
       "<matplotlib.legend.Legend at 0x7fd6064863d0>"
      ]
     },
     "execution_count": 7,
     "metadata": {},
     "output_type": "execute_result"
    }
   ],
   "source": [
    "plt.figure()\n",
    "for idx, data in enumerate(data_list[:3]):\n",
    "    plt.plot(pd.to_datetime(data[:,0]/1000, unit='s'), data[:,22], label = file_list_csv[idx])\n",
    "plt.legend()"
   ]
  },
  {
   "cell_type": "code",
   "execution_count": 8,
   "id": "e46f4023-831f-45ba-aea7-a013a083496f",
   "metadata": {},
   "outputs": [],
   "source": [
    "avg_data_list = []\n",
    "for data in data_list:\n",
    "    avg_data_list.append(np.zeros([np.shape(data)[0], 2]))\n",
    "    for idx in range(np.shape(data)[0]):\n",
    "        if idx != 0:\n",
    "            avg_data_list[-1][idx,0] = data[idx, 0]\n",
    "            avg_data_list[-1][idx,1] = avg_data_list[-1][idx - 1,1] * 0.999 + 0.001 * data[idx, 22]\n",
    "        else:\n",
    "            avg_data_list[-1][idx] = data[idx, [0, 22]]"
   ]
  },
  {
   "cell_type": "code",
   "execution_count": 9,
   "id": "90267075-cac4-4551-980a-0d9a00f2cc6d",
   "metadata": {},
   "outputs": [
    {
     "data": {
      "application/vnd.jupyter.widget-view+json": {
       "model_id": "0ed7a71a57714cabab0325df9b96d6bf",
       "version_major": 2,
       "version_minor": 0
      },
      "text/plain": [
       "Canvas(toolbar=Toolbar(toolitems=[('Home', 'Reset original view', 'home', 'home'), ('Back', 'Back to previous …"
      ]
     },
     "metadata": {},
     "output_type": "display_data"
    },
    {
     "data": {
      "text/plain": [
       "<matplotlib.legend.Legend at 0x7fd6063930a0>"
      ]
     },
     "execution_count": 9,
     "metadata": {},
     "output_type": "execute_result"
    }
   ],
   "source": [
    "plt.figure()\n",
    "for idx, data in enumerate(data_list[:3]):\n",
    "    plt.plot(pd.to_datetime(data[:,0]/1000, unit='s'), data[:,22], label = file_list_csv[idx])\n",
    "    plt.plot(pd.to_datetime(avg_data_list[idx][:,0]/1000, unit='s'), avg_data_list[idx][:,1], label = file_list_csv[idx])\n",
    "plt.legend()"
   ]
  },
  {
   "cell_type": "code",
   "execution_count": null,
   "id": "39dfaa03-f4e5-4cd6-8620-cf5235feae94",
   "metadata": {},
   "outputs": [],
   "source": []
  }
 ],
 "metadata": {
  "kernelspec": {
   "display_name": "Python 3",
   "language": "python",
   "name": "python3"
  },
  "language_info": {
   "codemirror_mode": {
    "name": "ipython",
    "version": 3
   },
   "file_extension": ".py",
   "mimetype": "text/x-python",
   "name": "python",
   "nbconvert_exporter": "python",
   "pygments_lexer": "ipython3",
   "version": "3.8.8"
  }
 },
 "nbformat": 4,
 "nbformat_minor": 5
}
