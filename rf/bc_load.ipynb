{
 "cells": [
  {
   "cell_type": "code",
   "execution_count": 9,
   "id": "posted-cross",
   "metadata": {},
   "outputs": [],
   "source": [
    "import os\n",
    "import numpy as np\n",
    "import pandas as pd\n",
    "from module import in_fun\n",
    "from matplotlib import pyplot as plt\n",
    "from module.torch import BinaryClassifier\n",
    "\n",
    "beacon_list = [1, 2, 3, 4, 10, 6, 7, 8, 9]\n",
    "\n",
    "%matplotlib widget"
   ]
  },
  {
   "cell_type": "code",
   "execution_count": 10,
   "id": "understood-channel",
   "metadata": {},
   "outputs": [],
   "source": [
    "import torch\n",
    "import torch.nn as nn\n",
    "import torch.nn.functional as F\n",
    "import torch.optim as optim\n",
    "from torch.utils.data import DataLoader, Dataset"
   ]
  },
  {
   "cell_type": "code",
   "execution_count": 11,
   "id": "palestinian-shock",
   "metadata": {},
   "outputs": [
    {
     "name": "stdout",
     "output_type": "stream",
     "text": [
      "cpu\n"
     ]
    }
   ],
   "source": [
    "# device = torch.device(\"cuda:0\" if torch.cuda.is_available() else \"cpu\")\n",
    "device = torch.device(\"cpu\")\n",
    "\n",
    "print(device)"
   ]
  },
  {
   "cell_type": "code",
   "execution_count": 12,
   "id": "suburban-denial",
   "metadata": {},
   "outputs": [
    {
     "data": {
      "text/plain": [
       "<All keys matched successfully>"
      ]
     },
     "execution_count": 12,
     "metadata": {},
     "output_type": "execute_result"
    }
   ],
   "source": [
    "net_abs = BinaryClassifier(input_size = 9)\n",
    "net_diff = BinaryClassifier(input_size = 9)\n",
    "net_each = BinaryClassifier(input_size = 18)\n",
    "net_abs.load_state_dict(torch.load(\"./model/abs\"))\n",
    "net_diff.load_state_dict(torch.load(\"./model/diff\"))\n",
    "net_each.load_state_dict(torch.load(\"./model/each\"))"
   ]
  },
  {
   "cell_type": "code",
   "execution_count": 13,
   "id": "located-tuesday",
   "metadata": {},
   "outputs": [
    {
     "name": "stdout",
     "output_type": "stream",
     "text": [
      "['1239.csv', 'toy01.csv', 'toy02.csv']\n"
     ]
    }
   ],
   "source": [
    "data_path = \"data/210317/\"\n",
    "file_list = os.listdir(data_path)\n",
    "file_list_csv = [file for file in file_list if file.endswith(\".csv\")]\n",
    "print(file_list_csv)"
   ]
  },
  {
   "cell_type": "code",
   "execution_count": 14,
   "id": "metropolitan-calendar",
   "metadata": {},
   "outputs": [
    {
     "name": "stdout",
     "output_type": "stream",
     "text": [
      "(71434, 32)\n",
      "(72365, 32)\n",
      "(68615, 32)\n"
     ]
    }
   ],
   "source": [
    "data_list = []\n",
    "for file_csv in file_list_csv:\n",
    "    data_list.append(in_fun.parser(\n",
    "    pd.read_csv(\n",
    "        data_path + file_csv,\n",
    "        header=None\n",
    "    ).loc[5000:].to_numpy(), beacon_list))\n",
    "    print(np.shape(data_list[-1]))    "
   ]
  },
  {
   "cell_type": "code",
   "execution_count": 15,
   "id": "indirect-registration",
   "metadata": {},
   "outputs": [
    {
     "name": "stdout",
     "output_type": "stream",
     "text": [
      "(285, 9)\n",
      "(289, 9)\n",
      "(274, 9)\n"
     ]
    }
   ],
   "source": [
    "gathered_list = []\n",
    "gather_num = 250\n",
    "for data in data_list:\n",
    "    cur_gathered = np.zeros([np.shape(data)[0] // gather_num, 9])\n",
    "    for row in range(np.shape(cur_gathered)[0]):\n",
    "        cur_gathered[row] = np.max(data[row * gather_num : row * gather_num + gather_num, -9:], axis=0)\n",
    "    cur_gathered += 200\n",
    "    cur_gathered = cur_gathered / 200\n",
    "    gathered_list.append(cur_gathered)\n",
    "    print(np.shape(gathered_list[-1]))"
   ]
  },
  {
   "cell_type": "code",
   "execution_count": 16,
   "id": "involved-procurement",
   "metadata": {},
   "outputs": [
    {
     "name": "stdout",
     "output_type": "stream",
     "text": [
      "(398194, 9)\n"
     ]
    }
   ],
   "source": [
    "matched_same = []\n",
    "for gathered in gathered_list:\n",
    "    matched_same.append(in_fun.matcher(gathered, gathered))\n",
    "matched_same.append(in_fun.matcher(gathered_list[1], gathered_list[2]))\n",
    "matched_same.append(in_fun.matcher(gathered_list[2], gathered_list[1]))\n",
    "    \n",
    "same_abs = np.concatenate([same[0] for same in matched_same])\n",
    "same_diff = np.concatenate([same[1] for same in matched_same])\n",
    "same_each = np.concatenate([same[2] for same in matched_same])\n",
    "print(np.shape(same_abs))"
   ]
  },
  {
   "cell_type": "code",
   "execution_count": 17,
   "id": "addressed-equilibrium",
   "metadata": {},
   "outputs": [
    {
     "name": "stdout",
     "output_type": "stream",
     "text": [
      "(320910, 18)\n"
     ]
    }
   ],
   "source": [
    "matched_diff = []\n",
    "matched_diff.append(in_fun.matcher(gathered_list[0], gathered_list[1]))\n",
    "matched_diff.append(in_fun.matcher(gathered_list[1], gathered_list[0]))\n",
    "matched_diff.append(in_fun.matcher(gathered_list[0], gathered_list[2]))\n",
    "matched_diff.append(in_fun.matcher(gathered_list[2], gathered_list[0]))\n",
    "\n",
    "diff_abs = np.concatenate([diff[0] for diff in matched_diff])\n",
    "diff_diff = np.concatenate([diff[1] for diff in matched_diff])\n",
    "diff_each = np.concatenate([diff[2] for diff in matched_diff])\n",
    "print(np.shape(diff_each))"
   ]
  },
  {
   "cell_type": "code",
   "execution_count": 18,
   "id": "designed-olive",
   "metadata": {},
   "outputs": [],
   "source": [
    "same_tensor_abs = torch.from_numpy(same_abs).float()\n",
    "same_tensor_diff = torch.from_numpy(same_diff).float()\n",
    "same_tensor_each = torch.from_numpy(same_each).float()\n",
    "diff_tensor_abs = torch.from_numpy(diff_abs).float()\n",
    "diff_tensor_diff = torch.from_numpy(diff_diff).float()\n",
    "diff_tensor_each = torch.from_numpy(diff_each).float()\n",
    "\n",
    "same_result_abs = net_abs(same_tensor_abs)\n",
    "same_result_diff = net_diff(same_tensor_diff)\n",
    "same_result_each = net_each(same_tensor_each)\n",
    "\n",
    "diff_result_abs = net_abs(diff_tensor_abs)\n",
    "diff_result_diff = net_diff(diff_tensor_diff)\n",
    "diff_result_each = net_each(diff_tensor_each)"
   ]
  },
  {
   "cell_type": "code",
   "execution_count": 19,
   "id": "conscious-australia",
   "metadata": {},
   "outputs": [
    {
     "name": "stdout",
     "output_type": "stream",
     "text": [
      "398194\n",
      "same correct : 363229\n",
      "same wrong : 34965\n",
      "320910\n",
      "diff correct : 320910\n",
      "diff wrong : 0\n"
     ]
    }
   ],
   "source": [
    "print(len(same_result_abs))\n",
    "print(f\"same correct : {len(same_result_abs[same_result_abs>=0.5])}\")\n",
    "print(f\"same wrong : {len(same_result_abs[same_result_abs<=0.5])}\")\n",
    "print(len(diff_result_abs))\n",
    "print(f\"diff correct : {len(diff_result_abs[diff_result_abs<=0.5])}\")\n",
    "print(f\"diff wrong : {len(diff_result_abs[diff_result_abs>=0.5])}\")"
   ]
  },
  {
   "cell_type": "code",
   "execution_count": 20,
   "id": "center-walker",
   "metadata": {},
   "outputs": [
    {
     "name": "stdout",
     "output_type": "stream",
     "text": [
      "398194\n",
      "same correct : 381060\n",
      "same wrong : 17134\n",
      "320910\n",
      "diff correct : 320347\n",
      "diff wrong : 563\n"
     ]
    }
   ],
   "source": [
    "print(len(same_result_diff))\n",
    "print(f\"same correct : {len(same_result_diff[same_result_diff>=0.5])}\")\n",
    "print(f\"same wrong : {len(same_result_diff[same_result_diff<=0.5])}\")\n",
    "print(len(diff_result_diff))\n",
    "print(f\"diff correct : {len(diff_result_diff[diff_result_diff<=0.5])}\")\n",
    "print(f\"diff wrong : {len(diff_result_diff[diff_result_diff>=0.5])}\")"
   ]
  },
  {
   "cell_type": "code",
   "execution_count": 21,
   "id": "failing-mauritius",
   "metadata": {},
   "outputs": [
    {
     "name": "stdout",
     "output_type": "stream",
     "text": [
      "398194\n",
      "same correct : 380569\n",
      "same wrong : 17625\n",
      "320910\n",
      "diff correct : 320347\n",
      "diff wrong : 563\n"
     ]
    }
   ],
   "source": [
    "print(len(same_result_each))\n",
    "print(f\"same correct : {len(same_result_each[same_result_each>=0.5])}\")\n",
    "print(f\"same wrong : {len(same_result_each[same_result_each<=0.5])}\")\n",
    "print(len(diff_result_each))\n",
    "print(f\"diff correct : {len(diff_result_each[diff_result_each<=0.5])}\")\n",
    "print(f\"diff wrong : {len(diff_result_each[diff_result_each>=0.5])}\")"
   ]
  },
  {
   "cell_type": "code",
   "execution_count": 22,
   "id": "absolute-scheme",
   "metadata": {},
   "outputs": [
    {
     "name": "stdout",
     "output_type": "stream",
     "text": [
      "torch.Size([398194])\n"
     ]
    }
   ],
   "source": [
    "print(np.shape(same_result_each.reshape(-1)))"
   ]
  },
  {
   "cell_type": "code",
   "execution_count": 23,
   "id": "hybrid-taylor",
   "metadata": {},
   "outputs": [
    {
     "name": "stdout",
     "output_type": "stream",
     "text": [
      "[[0.    0.    0.    0.    0.    0.    0.    0.575 0.605]\n",
      " [0.    0.    0.    0.    0.    0.    0.    0.575 0.605]\n",
      " [0.    0.    0.    0.    0.    0.    0.    0.575 0.605]\n",
      " [0.    0.    0.    0.    0.    0.    0.    0.575 0.605]\n",
      " [0.    0.    0.    0.    0.    0.    0.    0.575 0.605]\n",
      " [0.    0.    0.    0.    0.    0.    0.    0.575 0.605]\n",
      " [0.    0.    0.    0.    0.    0.    0.    0.575 0.605]\n",
      " [0.    0.    0.    0.    0.    0.    0.    0.575 0.605]\n",
      " [0.    0.    0.    0.    0.    0.    0.    0.575 0.605]\n",
      " [0.    0.    0.    0.    0.    0.    0.    0.575 0.605]]\n",
      "[[0.    0.    0.    0.    0.    0.    0.    0.    0.605]\n",
      " [0.    0.    0.    0.    0.    0.    0.    0.    0.585]\n",
      " [0.    0.    0.    0.    0.    0.    0.    0.    0.605]\n",
      " [0.    0.    0.    0.    0.    0.    0.    0.    0.61 ]\n",
      " [0.    0.    0.    0.    0.    0.    0.    0.    0.58 ]\n",
      " [0.    0.    0.    0.    0.    0.    0.    0.    0.61 ]\n",
      " [0.    0.    0.    0.    0.    0.    0.    0.    0.6  ]\n",
      " [0.    0.    0.    0.    0.    0.    0.    0.    0.605]\n",
      " [0.    0.    0.    0.    0.    0.    0.    0.    0.605]\n",
      " [0.    0.    0.    0.    0.    0.    0.    0.    0.61 ]]\n"
     ]
    }
   ],
   "source": [
    "print(same_each[same_result_abs.reshape(-1)<=0.5][:10,:9])\n",
    "print(same_each[same_result_abs.reshape(-1)<=0.5][:10,9:])"
   ]
  },
  {
   "cell_type": "code",
   "execution_count": 24,
   "id": "taken-vegetable",
   "metadata": {},
   "outputs": [
    {
     "name": "stdout",
     "output_type": "stream",
     "text": [
      "[[0.    0.    0.    0.    0.    0.    0.    0.575 0.605]\n",
      " [0.    0.    0.    0.    0.    0.    0.    0.575 0.605]\n",
      " [0.    0.    0.    0.    0.    0.    0.    0.575 0.605]\n",
      " [0.    0.    0.    0.    0.    0.    0.    0.575 0.605]\n",
      " [0.    0.    0.    0.    0.    0.    0.    0.575 0.605]\n",
      " [0.    0.    0.    0.    0.    0.    0.    0.575 0.605]\n",
      " [0.    0.    0.    0.    0.    0.    0.    0.575 0.605]\n",
      " [0.    0.    0.    0.    0.    0.    0.    0.575 0.605]\n",
      " [0.    0.    0.    0.    0.    0.    0.    0.575 0.605]\n",
      " [0.    0.    0.    0.    0.    0.    0.    0.575 0.605]]\n",
      "[[0.    0.    0.    0.    0.    0.    0.    0.    0.605]\n",
      " [0.    0.    0.    0.    0.    0.    0.    0.    0.585]\n",
      " [0.    0.    0.    0.    0.    0.    0.    0.    0.605]\n",
      " [0.    0.    0.    0.    0.    0.    0.    0.    0.61 ]\n",
      " [0.    0.    0.    0.    0.    0.    0.    0.    0.58 ]\n",
      " [0.    0.    0.    0.    0.    0.    0.    0.    0.61 ]\n",
      " [0.    0.    0.    0.    0.    0.    0.    0.    0.6  ]\n",
      " [0.    0.    0.    0.    0.    0.    0.    0.    0.605]\n",
      " [0.    0.    0.    0.    0.    0.    0.    0.    0.605]\n",
      " [0.    0.    0.    0.    0.    0.    0.    0.    0.61 ]]\n"
     ]
    }
   ],
   "source": [
    "print(same_each[same_result_each.reshape(-1)<=0.5][:10,:9])\n",
    "print(same_each[same_result_each.reshape(-1)<=0.5][:10,9:])"
   ]
  },
  {
   "cell_type": "code",
   "execution_count": null,
   "id": "provincial-cleaning",
   "metadata": {},
   "outputs": [],
   "source": []
  }
 ],
 "metadata": {
  "kernelspec": {
   "display_name": "Python 3",
   "language": "python",
   "name": "python3"
  },
  "language_info": {
   "codemirror_mode": {
    "name": "ipython",
    "version": 3
   },
   "file_extension": ".py",
   "mimetype": "text/x-python",
   "name": "python",
   "nbconvert_exporter": "python",
   "pygments_lexer": "ipython3",
   "version": "3.7.9"
  }
 },
 "nbformat": 4,
 "nbformat_minor": 5
}
