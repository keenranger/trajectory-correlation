{
 "cells": [
  {
   "cell_type": "markdown",
   "id": "global-headline",
   "metadata": {},
   "source": [
    "\n",
    "# Import neccessary modules\n",
    "1 for matrix caculation, 2 for Deep Learning"
   ]
  },
  {
   "cell_type": "code",
   "execution_count": 1,
   "id": "nasty-equilibrium",
   "metadata": {
    "ExecuteTime": {
     "end_time": "2021-03-03T00:28:46.911953Z",
     "start_time": "2021-03-03T00:28:46.907315Z"
    }
   },
   "outputs": [],
   "source": [
    "import numpy as np\n",
    "import pandas as pd\n",
    "from matplotlib import pyplot as plt\n",
    "from module.beacon_parser import beacon_parser\n",
    "\n",
    "beacon_list = [f\"beacon{idx + 1}\" for idx in range(9)]\n",
    "\n",
    "%matplotlib widget"
   ]
  },
  {
   "cell_type": "code",
   "execution_count": 2,
   "id": "affiliated-backup",
   "metadata": {
    "ExecuteTime": {
     "end_time": "2021-03-03T00:28:55.474585Z",
     "start_time": "2021-03-03T00:28:55.470918Z"
    }
   },
   "outputs": [],
   "source": [
    "import torch\n",
    "import torch.nn as nn\n",
    "import torch.nn.functional as F\n",
    "import torch.optim as optim\n",
    "from sklearn import svm\n",
    "from torch.utils.data import DataLoader, Dataset"
   ]
  },
  {
   "cell_type": "markdown",
   "id": "demonstrated-matrix",
   "metadata": {},
   "source": [
    "# Load Data\n",
    "python에서 csv파일을 읽어올때, 숫자만 있는것이 아닌 문자열이 포함된 데이터를 읽을 경우 느려지는 것 확인"
   ]
  },
  {
   "cell_type": "code",
   "execution_count": 3,
   "id": "extreme-syracuse",
   "metadata": {
    "ExecuteTime": {
     "end_time": "2021-03-03T00:29:00.051366Z",
     "start_time": "2021-03-03T00:28:55.848437Z"
    }
   },
   "outputs": [],
   "source": [
    "data_1233_1 = beacon_parser(\n",
    "    pd.read_csv(\n",
    "        \"./data/1233/note20/customscenario02_20210223173056.csv\",\n",
    "        header=None,\n",
    "        low_memory=False,\n",
    "    )\n",
    ")\n",
    "data_1233_2 = beacon_parser(\n",
    "    pd.read_csv(\n",
    "        \"./data/1233/s20/customscenario02_20210223173056.csv\",\n",
    "        header=None,\n",
    "        low_memory=False,\n",
    "    )\n",
    ")\n",
    "data_1250 = beacon_parser(\n",
    "    pd.read_csv(\n",
    "        \"./data/1250/customscenario01_20210223150144.csv\", header=None, low_memory=False\n",
    "    )\n",
    ")\n",
    "data_1251 = beacon_parser(\n",
    "    pd.read_csv(\n",
    "        \"./data/1251/customscenario01_20201009224245.csv\", header=None, low_memory=False\n",
    "    )\n",
    ")\n",
    "data_list = [data_1233_1, data_1233_2, data_1250, data_1251]"
   ]
  },
  {
   "cell_type": "markdown",
   "id": "dress-edinburgh",
   "metadata": {},
   "source": [
    "# Gather data\n",
    "250 row(5초)의 데이터를 모아서, 한 row로 묶어서 처리하였다. RSSI는 60 row중 최댓값을 사용"
   ]
  },
  {
   "cell_type": "code",
   "execution_count": 4,
   "id": "distinguished-acceptance",
   "metadata": {
    "ExecuteTime": {
     "end_time": "2021-03-03T00:29:00.076533Z",
     "start_time": "2021-03-03T00:29:00.053809Z"
    }
   },
   "outputs": [
    {
     "name": "stdout",
     "output_type": "stream",
     "text": [
      "(17, 9)\n",
      "(17, 9)\n",
      "(358, 9)\n",
      "(368, 9)\n"
     ]
    }
   ],
   "source": [
    "gathered_list = []\n",
    "for data in data_list:\n",
    "    cur_gathered = np.zeros([np.shape(data)[0] // 250, 9])\n",
    "    for row in range(np.shape(cur_gathered)[0]):\n",
    "        cur_gathered[row] = np.max(data[row * 250 : row * 250 + 250, -9:], axis=0)\n",
    "    cur_gathered += 200\n",
    "    cur_gathered = cur_gathered / 200\n",
    "    gathered_list.append(cur_gathered)\n",
    "    print(np.shape(gathered_list[-1]))"
   ]
  },
  {
   "cell_type": "code",
   "execution_count": 5,
   "id": "positive-brooklyn",
   "metadata": {
    "ExecuteTime": {
     "end_time": "2021-03-03T00:29:00.083751Z",
     "start_time": "2021-03-03T00:29:00.078828Z"
    }
   },
   "outputs": [
    {
     "name": "stdout",
     "output_type": "stream",
     "text": [
      "(34, 9)\n",
      "(358, 9)\n",
      "(368, 9)\n"
     ]
    }
   ],
   "source": [
    "gathered_1233 = np.concatenate((gathered_list[0], gathered_list[1]), axis=0)\n",
    "gathered_1250 = gathered_list[2]\n",
    "gathered_1251 = gathered_list[3]\n",
    "room_data = [gathered_1233, gathered_1250, gathered_1251]\n",
    "for room in room_data:\n",
    "    print(np.shape(room))"
   ]
  },
  {
   "cell_type": "markdown",
   "id": "liberal-guard",
   "metadata": {},
   "source": [
    "# \"Same Room\" Data\n",
    "같은 방 데이터 끼리 매칭시키고, 그 둘 차의 절댓값으로 구성된 dim = 9의 input  \n",
    "146 * 146 + 1495 * 1495 + 1535 * 1535 = 4612566"
   ]
  },
  {
   "cell_type": "code",
   "execution_count": 6,
   "id": "contemporary-domestic",
   "metadata": {
    "ExecuteTime": {
     "end_time": "2021-03-03T00:29:00.122180Z",
     "start_time": "2021-03-03T00:29:00.085849Z"
    }
   },
   "outputs": [
    {
     "name": "stdout",
     "output_type": "stream",
     "text": [
      "(264744, 9)\n"
     ]
    }
   ],
   "source": [
    "same_1233 = (\n",
    "    gathered_1233.reshape([1, -1, 9]) - gathered_1233.reshape([-1, 1, 9])\n",
    ").reshape([-1, 9])\n",
    "same_1250 = (\n",
    "    gathered_1250.reshape([1, -1, 9]) - gathered_1250.reshape([-1, 1, 9])\n",
    ").reshape([-1, 9])\n",
    "same_1251 = (\n",
    "    gathered_1251.reshape([1, -1, 9]) - gathered_1251.reshape([-1, 1, 9])\n",
    ").reshape([-1, 9])\n",
    "# same_1233 = np.concatenate(\n",
    "#     (\n",
    "#         np.broadcast_to(gathered_1233.reshape([-1, 1, 9]), (34, 34, 9)),\n",
    "#         np.broadcast_to(gathered_1233.reshape([1, -1, 9]), (34, 34, 9)),\n",
    "#     ),\n",
    "#     axis=2,\n",
    "# ).reshape((-1, 18))\n",
    "# same_1250 = np.concatenate(\n",
    "#     (\n",
    "#         np.broadcast_to(gathered_1250.reshape([-1, 1, 9]), (358, 358, 9)),\n",
    "#         np.broadcast_to(gathered_1250.reshape([1, -1, 9]), (358, 358, 9)),\n",
    "#     ),\n",
    "#     axis=2,\n",
    "# ).reshape((-1, 18))\n",
    "# same_1251 = np.concatenate(\n",
    "#     (\n",
    "#         np.broadcast_to(gathered_1251.reshape([-1, 1, 9]), (368, 368, 9)),\n",
    "#         np.broadcast_to(gathered_1251.reshape([1, -1, 9]), (368, 368, 9)),\n",
    "#     ),\n",
    "#     axis=2,\n",
    "# ).reshape((-1, 18))\n",
    "same = np.concatenate((same_1233, same_1250, same_1251))\n",
    "print(np.shape(same))"
   ]
  },
  {
   "cell_type": "markdown",
   "id": "swiss-government",
   "metadata": {},
   "source": [
    "# \"Different Room\" Data\n",
    "다른 방 데이터 끼리 매칭시키고, 그 둘 차의 절댓값으로 구성된 dim = 9의 input  \n",
    "146 * 1495 + 1495 * 1535 + 1535 * 146 = 2737205"
   ]
  },
  {
   "cell_type": "code",
   "execution_count": 7,
   "id": "coordinated-campus",
   "metadata": {
    "ExecuteTime": {
     "end_time": "2021-03-03T00:29:00.151538Z",
     "start_time": "2021-03-03T00:29:00.124126Z"
    }
   },
   "outputs": [
    {
     "name": "stdout",
     "output_type": "stream",
     "text": [
      "(156428, 9)\n"
     ]
    }
   ],
   "source": [
    "diff_1233_1250 = (\n",
    "    gathered_1233.reshape([1, -1, 9]) - gathered_1250.reshape([-1, 1, 9])\n",
    ").reshape([-1, 9])\n",
    "diff_1250_1251 = (\n",
    "    gathered_1250.reshape([1, -1, 9]) - gathered_1251.reshape([-1, 1, 9])\n",
    ").reshape([-1, 9])\n",
    "diff_1251_1233 = (\n",
    "    gathered_1251.reshape([1, -1, 9]) - gathered_1233.reshape([-1, 1, 9])\n",
    ").reshape([-1, 9])\n",
    "# diff_1233_1250 = np.concatenate(\n",
    "#     (\n",
    "#         np.broadcast_to(gathered_1233.reshape([-1, 1, 9]), (34, 358, 9)),\n",
    "#         np.broadcast_to(gathered_1250.reshape([1, -1, 9]), (34, 358, 9)),\n",
    "#     ),\n",
    "#     axis=2,\n",
    "# ).reshape((-1, 18))\n",
    "# diff_1250_1251 = np.concatenate(\n",
    "#     (\n",
    "#         np.broadcast_to(gathered_1250.reshape([-1, 1, 9]), (358, 368, 9)),\n",
    "#         np.broadcast_to(gathered_1251.reshape([1, -1, 9]), (358, 368, 9)),\n",
    "#     ),\n",
    "#     axis=2,\n",
    "# ).reshape((-1, 18))\n",
    "# diff_1251_1233 = np.concatenate(\n",
    "#     (\n",
    "#         np.broadcast_to(gathered_1251.reshape([-1, 1, 9]), (368, 34, 9)),\n",
    "#         np.broadcast_to(gathered_1233.reshape([1, -1, 9]), (368, 34, 9)),\n",
    "#     ),\n",
    "#     axis=2,\n",
    "# ).reshape((-1, 18))\n",
    "diff = np.concatenate((diff_1233_1250, diff_1250_1251, diff_1251_1233))\n",
    "print(np.shape(diff))"
   ]
  },
  {
   "cell_type": "markdown",
   "id": "stretch-minute",
   "metadata": {},
   "source": [
    "# Loading data for nn"
   ]
  },
  {
   "cell_type": "code",
   "execution_count": 8,
   "id": "otherwise-strike",
   "metadata": {
    "ExecuteTime": {
     "end_time": "2021-03-03T00:29:00.210922Z",
     "start_time": "2021-03-03T00:29:00.153577Z"
    }
   },
   "outputs": [
    {
     "ename": "KeyboardInterrupt",
     "evalue": "",
     "output_type": "error",
     "traceback": [
      "\u001b[0;31m---------------------------------------------------------------------------\u001b[0m",
      "\u001b[0;31mKeyboardInterrupt\u001b[0m                         Traceback (most recent call last)",
      "\u001b[0;32m<ipython-input-8-d93bc644d004>\u001b[0m in \u001b[0;36m<module>\u001b[0;34m\u001b[0m\n\u001b[1;32m      3\u001b[0m \u001b[0;34m\u001b[0m\u001b[0m\n\u001b[1;32m      4\u001b[0m \u001b[0mclf\u001b[0m \u001b[0;34m=\u001b[0m \u001b[0msvm\u001b[0m\u001b[0;34m.\u001b[0m\u001b[0mSVC\u001b[0m\u001b[0;34m(\u001b[0m\u001b[0mkernel\u001b[0m\u001b[0;34m=\u001b[0m\u001b[0;34m\"poly\"\u001b[0m\u001b[0;34m)\u001b[0m\u001b[0;34m\u001b[0m\u001b[0;34m\u001b[0m\u001b[0m\n\u001b[0;32m----> 5\u001b[0;31m \u001b[0mclf\u001b[0m\u001b[0;34m.\u001b[0m\u001b[0mfit\u001b[0m\u001b[0;34m(\u001b[0m\u001b[0mnp\u001b[0m\u001b[0;34m.\u001b[0m\u001b[0mconcatenate\u001b[0m\u001b[0;34m(\u001b[0m\u001b[0;34m(\u001b[0m\u001b[0msame\u001b[0m\u001b[0;34m,\u001b[0m \u001b[0mdiff\u001b[0m\u001b[0;34m)\u001b[0m\u001b[0;34m)\u001b[0m\u001b[0;34m,\u001b[0m \u001b[0my\u001b[0m\u001b[0;34m)\u001b[0m\u001b[0;34m\u001b[0m\u001b[0;34m\u001b[0m\u001b[0m\n\u001b[0m",
      "\u001b[0;32m/opt/conda/lib/python3.8/site-packages/sklearn/svm/_base.py\u001b[0m in \u001b[0;36mfit\u001b[0;34m(self, X, y, sample_weight)\u001b[0m\n\u001b[1;32m    215\u001b[0m \u001b[0;34m\u001b[0m\u001b[0m\n\u001b[1;32m    216\u001b[0m         \u001b[0mseed\u001b[0m \u001b[0;34m=\u001b[0m \u001b[0mrnd\u001b[0m\u001b[0;34m.\u001b[0m\u001b[0mrandint\u001b[0m\u001b[0;34m(\u001b[0m\u001b[0mnp\u001b[0m\u001b[0;34m.\u001b[0m\u001b[0miinfo\u001b[0m\u001b[0;34m(\u001b[0m\u001b[0;34m'i'\u001b[0m\u001b[0;34m)\u001b[0m\u001b[0;34m.\u001b[0m\u001b[0mmax\u001b[0m\u001b[0;34m)\u001b[0m\u001b[0;34m\u001b[0m\u001b[0;34m\u001b[0m\u001b[0m\n\u001b[0;32m--> 217\u001b[0;31m         \u001b[0mfit\u001b[0m\u001b[0;34m(\u001b[0m\u001b[0mX\u001b[0m\u001b[0;34m,\u001b[0m \u001b[0my\u001b[0m\u001b[0;34m,\u001b[0m \u001b[0msample_weight\u001b[0m\u001b[0;34m,\u001b[0m \u001b[0msolver_type\u001b[0m\u001b[0;34m,\u001b[0m \u001b[0mkernel\u001b[0m\u001b[0;34m,\u001b[0m \u001b[0mrandom_seed\u001b[0m\u001b[0;34m=\u001b[0m\u001b[0mseed\u001b[0m\u001b[0;34m)\u001b[0m\u001b[0;34m\u001b[0m\u001b[0;34m\u001b[0m\u001b[0m\n\u001b[0m\u001b[1;32m    218\u001b[0m         \u001b[0;31m# see comment on the other call to np.iinfo in this file\u001b[0m\u001b[0;34m\u001b[0m\u001b[0;34m\u001b[0m\u001b[0;34m\u001b[0m\u001b[0m\n\u001b[1;32m    219\u001b[0m \u001b[0;34m\u001b[0m\u001b[0m\n",
      "\u001b[0;32m/opt/conda/lib/python3.8/site-packages/sklearn/svm/_base.py\u001b[0m in \u001b[0;36m_dense_fit\u001b[0;34m(self, X, y, sample_weight, solver_type, kernel, random_seed)\u001b[0m\n\u001b[1;32m    266\u001b[0m         \u001b[0mself\u001b[0m\u001b[0;34m.\u001b[0m\u001b[0msupport_\u001b[0m\u001b[0;34m,\u001b[0m \u001b[0mself\u001b[0m\u001b[0;34m.\u001b[0m\u001b[0msupport_vectors_\u001b[0m\u001b[0;34m,\u001b[0m \u001b[0mself\u001b[0m\u001b[0;34m.\u001b[0m\u001b[0m_n_support\u001b[0m\u001b[0;34m,\u001b[0m\u001b[0;31m \u001b[0m\u001b[0;31m\\\u001b[0m\u001b[0;34m\u001b[0m\u001b[0;34m\u001b[0m\u001b[0m\n\u001b[1;32m    267\u001b[0m             \u001b[0mself\u001b[0m\u001b[0;34m.\u001b[0m\u001b[0mdual_coef_\u001b[0m\u001b[0;34m,\u001b[0m \u001b[0mself\u001b[0m\u001b[0;34m.\u001b[0m\u001b[0mintercept_\u001b[0m\u001b[0;34m,\u001b[0m \u001b[0mself\u001b[0m\u001b[0;34m.\u001b[0m\u001b[0m_probA\u001b[0m\u001b[0;34m,\u001b[0m\u001b[0;31m \u001b[0m\u001b[0;31m\\\u001b[0m\u001b[0;34m\u001b[0m\u001b[0;34m\u001b[0m\u001b[0m\n\u001b[0;32m--> 268\u001b[0;31m             self._probB, self.fit_status_ = libsvm.fit(\n\u001b[0m\u001b[1;32m    269\u001b[0m                 \u001b[0mX\u001b[0m\u001b[0;34m,\u001b[0m \u001b[0my\u001b[0m\u001b[0;34m,\u001b[0m\u001b[0;34m\u001b[0m\u001b[0;34m\u001b[0m\u001b[0m\n\u001b[1;32m    270\u001b[0m                 \u001b[0msvm_type\u001b[0m\u001b[0;34m=\u001b[0m\u001b[0msolver_type\u001b[0m\u001b[0;34m,\u001b[0m \u001b[0msample_weight\u001b[0m\u001b[0;34m=\u001b[0m\u001b[0msample_weight\u001b[0m\u001b[0;34m,\u001b[0m\u001b[0;34m\u001b[0m\u001b[0;34m\u001b[0m\u001b[0m\n",
      "\u001b[0;31mKeyboardInterrupt\u001b[0m: "
     ]
    }
   ],
   "source": [
    "x = np.concatenate((same, diff))\n",
    "y = np.concatenate((np.zeros([264744, 1]) + 1, np.zeros([156428, 1]))).reshape(-1)\n",
    "\n",
    "clf = svm.SVC(kernel=\"poly\")\n",
    "clf.fit(np.concatenate((same, diff)), y)"
   ]
  },
  {
   "cell_type": "code",
   "execution_count": null,
   "id": "accepted-reputation",
   "metadata": {},
   "outputs": [],
   "source": [
    "same_result = clf.predict(same)\n",
    "diff_result = clf.predict(diff)"
   ]
  },
  {
   "cell_type": "code",
   "execution_count": null,
   "id": "supported-placement",
   "metadata": {},
   "outputs": [],
   "source": [
    "true_positive = same[same_result == 1]\n",
    "false_negative = same[same_result == 0]\n",
    "false_positive = diff[diff_result == 1]\n",
    "true_negative = diff[diff_result == 0]\n",
    "recall = len(true_positive) / (len(true_positive) + len(false_negative))\n",
    "precision = len(true_positive) / (len(true_positive) + len(false_positive))\n",
    "accuracy = (len(true_positive) + len(true_negative)) / (\n",
    "    len(true_positive) + len(false_negative) + len(false_positive) + len(true_negative)\n",
    ")"
   ]
  },
  {
   "cell_type": "code",
   "execution_count": null,
   "id": "severe-optimum",
   "metadata": {},
   "outputs": [],
   "source": [
    "print(\n",
    "    f\"true positive : {len(true_positive)}, false negative : {len(false_negative)}, precision : {precision}\"\n",
    ")\n",
    "print(\n",
    "    f\"false positive : {len(false_positive)}, true negative : {len(true_negative)}, recall : {recall}\"\n",
    ")\n",
    "print(f\"accuracy : {accuracy}\")"
   ]
  },
  {
   "cell_type": "code",
   "execution_count": null,
   "id": "fourth-interference",
   "metadata": {},
   "outputs": [],
   "source": [
    "print(\"false positive\")\n",
    "print(false_positive[:10,:9] * 200 - 200)\n",
    "print(false_positive[:10, 9:] * 200 - 200)"
   ]
  },
  {
   "cell_type": "code",
   "execution_count": null,
   "id": "unlimited-darwin",
   "metadata": {},
   "outputs": [],
   "source": [
    "print(\"false negative\")\n",
    "print(false_negative[:10,:9] * 200 - 200)\n",
    "print(false_negative[:10, 9:] * 200 - 200)"
   ]
  },
  {
   "cell_type": "markdown",
   "id": "rising-carnival",
   "metadata": {},
   "source": [
    "비교분석을 위한 수치  \n",
    "모든 데이터에 true라고 응답해도, 정확도가 62%는 나온다."
   ]
  },
  {
   "cell_type": "markdown",
   "id": "assisted-workshop",
   "metadata": {},
   "source": [
    "# 개선 계획\n",
    "학습 과정에서 accuracy가 높아지지 않은 것으로, 제대로 학습되지 않는 상태인것으로 확인  \n",
    "input에 대한 조절로 결과를 얻고자한다\n",
    "1. RSSI 값 연산 시 재정의:   \n",
    "현재 해당 비컨에 해당하는 RSSI가 없으면, 0으로 넣어주고 비교하고있다.  \n",
    "그결과, null데이터와 -90dB의 차이가, null데이터와 -10dB의 차이보다 더 큰 상태이다.  \n",
    "null값에 대해 -100을 넣어주고 연산하는 방식으로 오류를 줄여야 한다.  \n",
    "2. Input 범위 재설정:  \n",
    "1의 적용 이후, 실제 input으로 들어갈 값들은 -100 ~ -1 사이의 값이다.  \n",
    "input에 100을 더한 후 100으로 나눠주어, input들이 0 ~ 1 사이의 범위에 있도록 normalize 해줄 계획이다\n",
    "3. Input Data 추가:  \n",
    "현재는 두 데이터간의 '차의 절댓값' 만을 넣어주고 있어서, 데이터 dimension이 9이하인 상태이다. (적은 편)  \n",
    "차만을 사용하는 과정에서, 각 데이터의 RF measurement들이 버려지게 된다.  \n",
    "4. Input의 다원화:  \n",
    "현재 사용하고 있지 않은 기압값등을 어떻게 활용할지 고려한다."
   ]
  },
  {
   "cell_type": "code",
   "execution_count": null,
   "id": "designing-burner",
   "metadata": {},
   "outputs": [],
   "source": []
  }
 ],
 "metadata": {
  "kernelspec": {
   "display_name": "Python 3",
   "language": "python",
   "name": "python3"
  },
  "language_info": {
   "codemirror_mode": {
    "name": "ipython",
    "version": 3
   },
   "file_extension": ".py",
   "mimetype": "text/x-python",
   "name": "python",
   "nbconvert_exporter": "python",
   "pygments_lexer": "ipython3",
   "version": "3.7.9"
  },
  "toc": {
   "base_numbering": 1,
   "nav_menu": {},
   "number_sections": false,
   "sideBar": true,
   "skip_h1_title": false,
   "title_cell": "Table of Contents",
   "title_sidebar": "Contents",
   "toc_cell": false,
   "toc_position": {},
   "toc_section_display": true,
   "toc_window_display": false
  }
 },
 "nbformat": 4,
 "nbformat_minor": 5
}
