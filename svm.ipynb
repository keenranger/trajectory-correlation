{
 "cells": [
  {
   "cell_type": "markdown",
   "metadata": {},
   "source": [
    "\n",
    "# Import neccessary modules\n",
    "1 for matrix caculation, 2 for Deep Learning"
   ]
  },
  {
   "cell_type": "code",
   "execution_count": 1,
   "metadata": {
    "ExecuteTime": {
     "end_time": "2021-03-03T00:28:46.911953Z",
     "start_time": "2021-03-03T00:28:46.907315Z"
    }
   },
   "outputs": [],
   "source": [
    "import numpy as np\n",
    "import pandas as pd\n",
    "from matplotlib import pyplot as plt\n",
    "from module.beacon_parser import beacon_parser\n",
    "\n",
    "beacon_list = [f\"beacon{idx + 1}\" for idx in range(9)]\n",
    "\n",
    "%matplotlib widget"
   ]
  },
  {
   "cell_type": "code",
   "execution_count": 2,
   "metadata": {
    "ExecuteTime": {
     "end_time": "2021-03-03T00:28:55.474585Z",
     "start_time": "2021-03-03T00:28:55.470918Z"
    }
   },
   "outputs": [],
   "source": [
    "import torch\n",
    "import torch.nn as nn\n",
    "import torch.nn.functional as F\n",
    "import torch.optim as optim\n",
    "from sklearn import svm\n",
    "from torch.utils.data import DataLoader, Dataset"
   ]
  },
  {
   "cell_type": "markdown",
   "metadata": {},
   "source": [
    "# Load Data\n",
    "python에서 csv파일을 읽어올때, 숫자만 있는것이 아닌 문자열이 포함된 데이터를 읽을 경우 느려지는 것 확인"
   ]
  },
  {
   "cell_type": "code",
   "execution_count": 3,
   "metadata": {
    "ExecuteTime": {
     "end_time": "2021-03-03T00:29:00.051366Z",
     "start_time": "2021-03-03T00:28:55.848437Z"
    }
   },
   "outputs": [],
   "source": [
    "data_1233_1 = beacon_parser(\n",
    "    pd.read_csv(\n",
    "        \"./data/1233/note20/customscenario02_20210223173056.csv\",\n",
    "        header=None,\n",
    "        low_memory=False,\n",
    "    )\n",
    ")\n",
    "data_1233_2 = beacon_parser(\n",
    "    pd.read_csv(\n",
    "        \"./data/1233/s20/customscenario02_20210223173056.csv\",\n",
    "        header=None,\n",
    "        low_memory=False,\n",
    "    )\n",
    ")\n",
    "data_1250 = beacon_parser(\n",
    "    pd.read_csv(\n",
    "        \"./data/1250/customscenario01_20210223150144.csv\", header=None, low_memory=False\n",
    "    )\n",
    ")\n",
    "data_1251 = beacon_parser(\n",
    "    pd.read_csv(\n",
    "        \"./data/1251/customscenario01_20201009224245.csv\", header=None, low_memory=False\n",
    "    )\n",
    ")\n",
    "data_list = [data_1233_1, data_1233_2, data_1250, data_1251]"
   ]
  },
  {
   "cell_type": "markdown",
   "metadata": {},
   "source": [
    "# Gather data\n",
    "250 row(5초)의 데이터를 모아서, 한 row로 묶어서 처리하였다. RSSI는 60 row중 최댓값을 사용"
   ]
  },
  {
   "cell_type": "code",
   "execution_count": 4,
   "metadata": {
    "ExecuteTime": {
     "end_time": "2021-03-03T00:29:00.076533Z",
     "start_time": "2021-03-03T00:29:00.053809Z"
    }
   },
   "outputs": [
    {
     "name": "stdout",
     "output_type": "stream",
     "text": [
      "(17, 9)\n",
      "(17, 9)\n",
      "(358, 9)\n",
      "(368, 9)\n"
     ]
    }
   ],
   "source": [
    "gathered_list = []\n",
    "for data in data_list:\n",
    "    cur_gathered = np.zeros([np.shape(data)[0] // 250, 9])\n",
    "    for row in range(np.shape(cur_gathered)[0]):\n",
    "        cur_gathered[row] = np.max(data[row * 250 : row * 250 + 250, -9:], axis=0)\n",
    "    gathered_list.append(cur_gathered)\n",
    "    print(np.shape(gathered_list[-1]))"
   ]
  },
  {
   "cell_type": "code",
   "execution_count": 5,
   "metadata": {
    "ExecuteTime": {
     "end_time": "2021-03-03T00:29:00.083751Z",
     "start_time": "2021-03-03T00:29:00.078828Z"
    }
   },
   "outputs": [
    {
     "name": "stdout",
     "output_type": "stream",
     "text": [
      "(34, 9)\n",
      "(358, 9)\n",
      "(368, 9)\n"
     ]
    }
   ],
   "source": [
    "gathered_1233 = np.concatenate((gathered_list[0], gathered_list[1]), axis=0)\n",
    "gathered_1250 = gathered_list[2]\n",
    "gathered_1251 = gathered_list[3]\n",
    "room_data = [gathered_1233, gathered_1250, gathered_1251]\n",
    "for room in room_data:\n",
    "    print(np.shape(room))"
   ]
  },
  {
   "cell_type": "markdown",
   "metadata": {},
   "source": [
    "# \"Same Room\" Data\n",
    "같은 방 데이터 끼리 매칭시키고, 그 둘 차의 절댓값으로 구성된 dim = 9의 input  \n",
    "146 * 146 + 1495 * 1495 + 1535 * 1535 = 4612566"
   ]
  },
  {
   "cell_type": "code",
   "execution_count": 6,
   "metadata": {
    "ExecuteTime": {
     "end_time": "2021-03-03T00:29:00.122180Z",
     "start_time": "2021-03-03T00:29:00.085849Z"
    }
   },
   "outputs": [
    {
     "name": "stdout",
     "output_type": "stream",
     "text": [
      "(264744, 18)\n"
     ]
    }
   ],
   "source": [
    "# same_1233 = (gathered_1233[:,1:].reshape([1,-1,9]) - gathered_1233[:,1:].reshape([-1,1,9])).reshape([-1,9])\n",
    "# same_1250 = (gathered_1250[:,1:].reshape([1,-1,9]) - gathered_1250[:,1:].reshape([-1,1,9])).reshape([-1,9])\n",
    "# same_1251 = (gathered_1251[:,1:].reshape([1,-1,9]) - gathered_1251[:,1:].reshape([-1,1,9])).reshape([-1,9])\n",
    "same_1233 = np.concatenate(\n",
    "    (\n",
    "        np.broadcast_to(gathered_1233.reshape([-1, 1, 9]), (34, 34, 9)),\n",
    "        np.broadcast_to(gathered_1233.reshape([1, -1, 9]), (34, 34, 9)),\n",
    "    ),\n",
    "    axis=2,\n",
    ").reshape((-1, 18))\n",
    "same_1250 = np.concatenate(\n",
    "    (\n",
    "        np.broadcast_to(gathered_1250.reshape([-1, 1, 9]), (358, 358, 9)),\n",
    "        np.broadcast_to(gathered_1250.reshape([1, -1, 9]), (358, 358, 9)),\n",
    "    ),\n",
    "    axis=2,\n",
    ").reshape((-1, 18))\n",
    "same_1251 = np.concatenate(\n",
    "    (\n",
    "        np.broadcast_to(gathered_1251.reshape([-1, 1, 9]), (368, 368, 9)),\n",
    "        np.broadcast_to(gathered_1251.reshape([1, -1, 9]), (368, 368, 9)),\n",
    "    ),\n",
    "    axis=2,\n",
    ").reshape((-1, 18))\n",
    "same = np.concatenate((same_1233, same_1250, same_1251))\n",
    "same += 200\n",
    "same = same / 200\n",
    "print(np.shape(same))"
   ]
  },
  {
   "cell_type": "markdown",
   "metadata": {},
   "source": [
    "# \"Different Room\" Data\n",
    "다른 방 데이터 끼리 매칭시키고, 그 둘 차의 절댓값으로 구성된 dim = 9의 input  \n",
    "146 * 1495 + 1495 * 1535 + 1535 * 146 = 2737205"
   ]
  },
  {
   "cell_type": "code",
   "execution_count": 7,
   "metadata": {
    "ExecuteTime": {
     "end_time": "2021-03-03T00:29:00.151538Z",
     "start_time": "2021-03-03T00:29:00.124126Z"
    }
   },
   "outputs": [
    {
     "name": "stdout",
     "output_type": "stream",
     "text": [
      "(156428, 18)\n"
     ]
    }
   ],
   "source": [
    "# diff_1233_1250 = (gathered_1233[:,1:].reshape([1,-1,9]) - gathered_1250[:,1:].reshape([-1,1,9])).reshape([-1,9])\n",
    "# diff_1250_1251 = (gathered_1250[:,1:].reshape([1,-1,9]) - gathered_1251[:,1:].reshape([-1,1,9])).reshape([-1,9])\n",
    "# diff_1251_1233 = (gathered_1251[:,1:].reshape([1,-1,9]) - gathered_1233[:,1:].reshape([-1,1,9])).reshape([-1,9])\n",
    "diff_1233_1250 = np.concatenate(\n",
    "    (\n",
    "        np.broadcast_to(gathered_1233.reshape([-1, 1, 9]), (34, 358, 9)),\n",
    "        np.broadcast_to(gathered_1250.reshape([1, -1, 9]), (34, 358, 9)),\n",
    "    ),\n",
    "    axis=2,\n",
    ").reshape((-1, 18))\n",
    "diff_1250_1251 = np.concatenate(\n",
    "    (\n",
    "        np.broadcast_to(gathered_1250.reshape([-1, 1, 9]), (358, 368, 9)),\n",
    "        np.broadcast_to(gathered_1251.reshape([1, -1, 9]), (358, 368, 9)),\n",
    "    ),\n",
    "    axis=2,\n",
    ").reshape((-1, 18))\n",
    "diff_1251_1233 = np.concatenate(\n",
    "    (\n",
    "        np.broadcast_to(gathered_1251.reshape([-1, 1, 9]), (368, 34, 9)),\n",
    "        np.broadcast_to(gathered_1233.reshape([1, -1, 9]), (368, 34, 9)),\n",
    "    ),\n",
    "    axis=2,\n",
    ").reshape((-1, 18))\n",
    "diff = np.concatenate((diff_1233_1250, diff_1250_1251, diff_1251_1233))\n",
    "diff += 200\n",
    "diff = diff / 200\n",
    "print(np.shape(diff))"
   ]
  },
  {
   "cell_type": "markdown",
   "metadata": {},
   "source": [
    "# Loading data for nn"
   ]
  },
  {
   "cell_type": "code",
   "execution_count": 8,
   "metadata": {
    "ExecuteTime": {
     "end_time": "2021-03-03T00:29:00.210922Z",
     "start_time": "2021-03-03T00:29:00.153577Z"
    }
   },
   "outputs": [
    {
     "data": {
      "text/plain": [
       "SVC(kernel='poly')"
      ]
     },
     "execution_count": 8,
     "metadata": {},
     "output_type": "execute_result"
    }
   ],
   "source": [
    "# from torch.utils.data import Dataset, TensorDataset\n",
    "# from torch.utils.data.dataset import random_split\n",
    "# x_tensor = torch.from_numpy(np.concatenate((same, diff))).float()\n",
    "x = np.concatenate((same, diff))\n",
    "y = np.concatenate((np.zeros([264744, 1]) + 1, np.zeros([156428, 1]))).reshape(-1)\n",
    "# y_tensor = torch.from_numpy(y).float()\n",
    "\n",
    "# dataset = TensorDataset(x_tensor, y_tensor)\n",
    "# train_len = len(dataset) // 5 * 4\n",
    "# val_len = len(dataset) - train_len\n",
    "\n",
    "# train_dataset, val_dataset = random_split(dataset, [train_len,val_len])\n",
    "# train_loader = DataLoader(dataset=train_dataset, batch_size=4096, shuffle = True)\n",
    "# val_loader   = DataLoader(dataset=val_dataset, batch_size=4096, shuffle = True)\n",
    "\n",
    "clf = svm.SVC(kernel=\"poly\")\n",
    "clf.fit(np.concatenate((same, diff)), y)"
   ]
  },
  {
   "cell_type": "code",
   "execution_count": 9,
   "metadata": {},
   "outputs": [],
   "source": [
    "same_result = clf.predict(same)\n",
    "diff_result = clf.predict(diff)"
   ]
  },
  {
   "cell_type": "code",
   "execution_count": 15,
   "metadata": {},
   "outputs": [],
   "source": [
    "true_positive = same[same_result == 1]\n",
    "false_negative = same[same_result == 0]\n",
    "false_positive = diff[diff_result == 1]\n",
    "true_negative = diff[diff_result == 0]\n",
    "recall = len(true_positive) / (len(true_positive) + len(false_negative))\n",
    "precision = len(true_positive) / (len(true_positive) + len(false_positive))\n",
    "accuracy = (len(true_positive) + len(true_negative)) / (\n",
    "    len(true_positive) + len(false_negative) + len(false_positive) + len(true_negative)\n",
    ")"
   ]
  },
  {
   "cell_type": "code",
   "execution_count": 31,
   "metadata": {},
   "outputs": [
    {
     "name": "stdout",
     "output_type": "stream",
     "text": [
      "true positive : 264563, false negative : 181, precision : 0.9992710269077943\n",
      "false positive : 193, true negative : 156235, recall : 0.9993163206720455\n",
      "accuracy : 0.9991120017475046\n"
     ]
    }
   ],
   "source": [
    "print(\n",
    "    f\"true positive : {len(true_positive)}, false negative : {len(false_negative)}, precision : {precision}\"\n",
    ")\n",
    "print(\n",
    "    f\"false positive : {len(false_positive)}, true negative : {len(true_negative)}, recall : {recall}\"\n",
    ")\n",
    "print(f\"accuracy : {accuracy}\")"
   ]
  },
  {
   "cell_type": "code",
   "execution_count": 29,
   "metadata": {},
   "outputs": [
    {
     "name": "stdout",
     "output_type": "stream",
     "text": [
      "false positive\n",
      "[[-200. -200. -200.  -76. -200. -200. -200. -200.  -67.]\n",
      " [-200. -200. -200.  -78. -200. -200. -200. -200.  -67.]\n",
      " [-200. -200. -200.  -78. -200. -200. -200. -200.  -68.]\n",
      " [-200. -200. -200.  -78. -200. -200. -200. -200.  -69.]\n",
      " [-200. -200. -200.  -79. -200. -200. -200. -200.  -66.]\n",
      " [-200. -200. -200.  -77. -200. -200. -200. -200.  -67.]\n",
      " [-200. -200. -200.  -78. -200. -200. -200. -200.  -68.]\n",
      " [-200. -200. -200.  -78. -200. -200. -200. -200.  -67.]\n",
      " [-200. -200. -200.  -78. -200. -200. -200. -200.  -67.]\n",
      " [-200. -200. -200.  -78. -200. -200. -200. -200.  -66.]]\n",
      "[[-200. -200. -200.  -82. -200. -200. -200. -200.  -72.]\n",
      " [-200. -200. -200.  -82. -200. -200. -200. -200.  -72.]\n",
      " [-200. -200. -200.  -82. -200. -200. -200. -200.  -72.]\n",
      " [-200. -200. -200.  -82. -200. -200. -200. -200.  -72.]\n",
      " [-200. -200. -200.  -82. -200. -200. -200. -200.  -72.]\n",
      " [-200. -200. -200.  -82. -200. -200. -200. -200.  -72.]\n",
      " [-200. -200. -200.  -82. -200. -200. -200. -200.  -72.]\n",
      " [-200. -200. -200.  -82. -200. -200. -200. -200.  -72.]\n",
      " [-200. -200. -200.  -82. -200. -200. -200. -200.  -72.]\n",
      " [-200. -200. -200.  -82. -200. -200. -200. -200.  -72.]]\n"
     ]
    }
   ],
   "source": [
    "print(\"false positive\")\n",
    "print(false_positive[:10,:9] * 200 - 200)\n",
    "print(false_positive[:10, 9:] * 200 - 200)"
   ]
  },
  {
   "cell_type": "code",
   "execution_count": 30,
   "metadata": {},
   "outputs": [
    {
     "name": "stdout",
     "output_type": "stream",
     "text": [
      "false negative\n",
      "[[-200. -200. -200. -200. -200. -200.  -66. -200.  -71.]\n",
      " [-200. -200. -200.  -76. -200. -200. -200. -200.  -63.]\n",
      " [-200. -200. -200.  -82. -200. -200. -200. -200.  -72.]\n",
      " [-200. -200. -200.  -82. -200. -200. -200. -200.  -72.]\n",
      " [-200. -200. -200.  -82. -200. -200. -200. -200.  -72.]\n",
      " [-200. -200. -200.  -82. -200. -200. -200. -200.  -72.]\n",
      " [-200. -200. -200.  -82. -200. -200. -200. -200.  -72.]\n",
      " [-200. -200. -200.  -82. -200. -200. -200. -200.  -72.]\n",
      " [-200. -200. -200.  -82. -200. -200. -200. -200.  -72.]\n",
      " [-200. -200. -200.  -82. -200. -200. -200. -200.  -72.]]\n",
      "[[-200. -200. -200. -200. -200. -200.  -66. -200.  -71.]\n",
      " [-200. -200. -200.  -79. -200. -200. -200. -200.  -69.]\n",
      " [-200. -200. -200.  -86. -200. -200. -200. -200.  -83.]\n",
      " [-200. -200. -200.  -91. -200. -200. -200. -200.  -90.]\n",
      " [-200. -200. -200.  -87. -200. -200. -200. -200.  -89.]\n",
      " [-200. -200. -200.  -89. -200. -200. -200. -200.  -83.]\n",
      " [-200. -200. -200.  -88. -200. -200. -200. -200.  -87.]\n",
      " [-200. -200. -200.  -88. -200. -200. -200. -200.  -87.]\n",
      " [-200. -200. -200.  -87. -200. -200. -200. -200.  -86.]\n",
      " [-200. -200. -200.  -88. -200. -200. -200. -200.  -86.]]\n"
     ]
    }
   ],
   "source": [
    "print(\"false negative\")\n",
    "print(false_negative[:10,:9] * 200 - 200)\n",
    "print(false_negative[:10, 9:] * 200 - 200)"
   ]
  },
  {
   "cell_type": "markdown",
   "metadata": {},
   "source": [
    "# Layer\n",
    "input 은 9개, output은 1개(1 or 0)인 nn 생성"
   ]
  },
  {
   "cell_type": "code",
   "execution_count": 14,
   "metadata": {
    "ExecuteTime": {
     "end_time": "2021-03-03T00:29:00.216916Z",
     "start_time": "2021-03-03T00:29:00.212635Z"
    }
   },
   "outputs": [],
   "source": [
    "class BinaryClassifier(nn.Module):\n",
    "    def __init__(self):\n",
    "        super().__init__()\n",
    "        self.fc1 = nn.Linear(18, 256)\n",
    "        self.fc2 = nn.Linear(256, 128)\n",
    "        self.fc3 = nn.Linear(128, 32)\n",
    "        self.fc4 = nn.Linear(32, 1)\n",
    "\n",
    "    def forward(self, x):\n",
    "        x = F.tanh(self.fc1(x))\n",
    "        x = F.tanh(self.fc2(x))\n",
    "        x = F.tanh(self.fc3(x))\n",
    "        x = torch.sigmoid(F.tanh(self.fc4(x)))\n",
    "        return x"
   ]
  },
  {
   "cell_type": "code",
   "execution_count": 15,
   "metadata": {
    "ExecuteTime": {
     "end_time": "2021-03-03T00:29:00.253558Z",
     "start_time": "2021-03-03T00:29:00.219370Z"
    }
   },
   "outputs": [
    {
     "name": "stdout",
     "output_type": "stream",
     "text": [
      "cuda:0\n"
     ]
    }
   ],
   "source": [
    "device = torch.device(\"cuda:0\" if torch.cuda.is_available() else \"cpu\")\n",
    "print(device)"
   ]
  },
  {
   "cell_type": "code",
   "execution_count": null,
   "metadata": {
    "ExecuteTime": {
     "start_time": "2021-03-03T00:29:15.426Z"
    }
   },
   "outputs": [
    {
     "name": "stderr",
     "output_type": "stream",
     "text": [
      "/opt/conda/lib/python3.8/site-packages/torch/cuda/__init__.py:104: UserWarning: \n",
      "NVIDIA GeForce RTX 3070 with CUDA capability sm_86 is not compatible with the current PyTorch installation.\n",
      "The current PyTorch install supports CUDA capabilities sm_37 sm_50 sm_60 sm_61 sm_70 sm_75 compute_37.\n",
      "If you want to use the NVIDIA GeForce RTX 3070 GPU with PyTorch, please check the instructions at https://pytorch.org/get-started/locally/\n",
      "\n",
      "  warnings.warn(incompatible_device_warn.format(device_name, capability, \" \".join(arch_list), device_name))\n"
     ]
    }
   ],
   "source": [
    "net = BinaryClassifier()\n",
    "net.to(device)\n",
    "optimizer = optim.SGD(net.parameters(), lr=3e-3)\n",
    "criterion = nn.BCELoss()"
   ]
  },
  {
   "cell_type": "markdown",
   "metadata": {},
   "source": [
    "비교분석을 위한 수치  \n",
    "모든 데이터에 true라고 응답해도, 정확도가 62%는 나온다."
   ]
  },
  {
   "cell_type": "code",
   "execution_count": null,
   "metadata": {
    "ExecuteTime": {
     "start_time": "2021-03-03T00:30:53.847Z"
    }
   },
   "outputs": [],
   "source": [
    "print(len(same) / (len(same) + len(diff)))"
   ]
  },
  {
   "cell_type": "code",
   "execution_count": null,
   "metadata": {
    "ExecuteTime": {
     "end_time": "2021-03-03T00:28:41.615056Z",
     "start_time": "2021-03-03T00:28:55.799Z"
    }
   },
   "outputs": [],
   "source": [
    "num_epoch = 15\n",
    "for epoch in range(num_epoch):\n",
    "    for batch_idx, data in enumerate(train_loader):\n",
    "        x_train, y_train = data[0].to(device), data[1].to(device)\n",
    "        hypothesis = net(x_train)\n",
    "        cost = criterion(hypothesis, y_train)\n",
    "        # cost로 H(x) 계산\n",
    "        optimizer.zero_grad()\n",
    "        cost.backward()\n",
    "        optimizer.step()\n",
    "        if batch_idx % 300 == 0:\n",
    "            prediction = hypothesis >= torch.FloatTensor([0.5]).to(\n",
    "                device\n",
    "            )  # 예측값이 0.5를 넘으면 True로 간주\n",
    "            correct_prediction = prediction.float() == y_train  # 실제값과 일치하는 경우만 True로 간주\n",
    "            accuracy = correct_prediction.sum().item() / len(\n",
    "                correct_prediction\n",
    "            )  # 정확도를 계산\n",
    "            print(\n",
    "                \"epoch {:4d}, batch_idx {:4d}, Cost: {:.6f} Accuracy {:2.2f}%\".format(  # 각 에포크마다 정확도를 출력\n",
    "                    epoch, batch_idx, cost.item(), accuracy * 100\n",
    "                )\n",
    "            )"
   ]
  },
  {
   "cell_type": "markdown",
   "metadata": {},
   "source": [
    "# 개선 계획\n",
    "학습 과정에서 accuracy가 높아지지 않은 것으로, 제대로 학습되지 않는 상태인것으로 확인  \n",
    "input에 대한 조절로 결과를 얻고자한다\n",
    "1. RSSI 값 연산 시 재정의:   \n",
    "현재 해당 비컨에 해당하는 RSSI가 없으면, 0으로 넣어주고 비교하고있다.  \n",
    "그결과, null데이터와 -90dB의 차이가, null데이터와 -10dB의 차이보다 더 큰 상태이다.  \n",
    "null값에 대해 -100을 넣어주고 연산하는 방식으로 오류를 줄여야 한다.  \n",
    "2. Input 범위 재설정:  \n",
    "1의 적용 이후, 실제 input으로 들어갈 값들은 -100 ~ -1 사이의 값이다.  \n",
    "input에 100을 더한 후 100으로 나눠주어, input들이 0 ~ 1 사이의 범위에 있도록 normalize 해줄 계획이다\n",
    "3. Input Data 추가:  \n",
    "현재는 두 데이터간의 '차의 절댓값' 만을 넣어주고 있어서, 데이터 dimension이 9이하인 상태이다. (적은 편)  \n",
    "차만을 사용하는 과정에서, 각 데이터의 RF measurement들이 버려지게 된다.  \n",
    "4. Input의 다원화:  \n",
    "현재 사용하고 있지 않은 기압값등을 어떻게 활용할지 고려한다."
   ]
  },
  {
   "cell_type": "code",
   "execution_count": null,
   "metadata": {},
   "outputs": [],
   "source": []
  }
 ],
 "metadata": {
  "kernelspec": {
   "display_name": "Python 3",
   "language": "python",
   "name": "python3"
  },
  "language_info": {
   "codemirror_mode": {
    "name": "ipython",
    "version": 3
   },
   "file_extension": ".py",
   "mimetype": "text/x-python",
   "name": "python",
   "nbconvert_exporter": "python",
   "pygments_lexer": "ipython3",
   "version": "3.8.5"
  },
  "toc": {
   "base_numbering": 1,
   "nav_menu": {},
   "number_sections": false,
   "sideBar": true,
   "skip_h1_title": false,
   "title_cell": "Table of Contents",
   "title_sidebar": "Contents",
   "toc_cell": false,
   "toc_position": {},
   "toc_section_display": true,
   "toc_window_display": false
  }
 },
 "nbformat": 4,
 "nbformat_minor": 5
}
