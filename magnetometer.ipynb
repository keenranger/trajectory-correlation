{
 "cells": [
  {
   "cell_type": "code",
   "execution_count": 1,
   "id": "interested-director",
   "metadata": {},
   "outputs": [],
   "source": [
    "def getRotationMatrixFromVector(rotation_vector, return_size):\n",
    "    q1 = rotation_vector[:, 0]\n",
    "    q2 = rotation_vector[:, 1]\n",
    "    q3 = rotation_vector[:, 2]\n",
    "    q0 = rotation_vector[:, 3]\n",
    "    sq_q1 = 2 * q1 * q1\n",
    "    sq_q2 = 2 * q2 * q2\n",
    "    sq_q3 = 2 * q3 * q3\n",
    "    q1_q2 = 2 * q1 * q2\n",
    "    q3_q0 = 2 * q3 * q0\n",
    "    q1_q3 = 2 * q1 * q3\n",
    "    q2_q0 = 2 * q2 * q0\n",
    "    q2_q3 = 2 * q2 * q3\n",
    "    q1_q0 = 2 * q1 * q0\n",
    "    if return_size == 16:\n",
    "        rotation_matrix = np.zeros([np.shape(rotation_vector)[0], 16])\n",
    "        rotation_matrix[:,0] = 1 - sq_q2 - sq_q3\n",
    "        rotation_matrix[:,1] = q1_q2 - q3_q0\n",
    "        rotation_matrix[:,2] = q1_q3 + q2_q0\n",
    "        rotation_matrix[:,4] = q1_q2 + q3_q0\n",
    "        rotation_matrix[:,5] = 1 - sq_q1 - sq_q3\n",
    "        rotation_matrix[:,6] = q2_q3 - q1_q0\n",
    "        rotation_matrix[:,8] = q1_q3 - q2_q0\n",
    "        rotation_matrix[:,9] = q2_q3 + q1_q0\n",
    "        rotation_matrix[:,10] = 1 - sq_q1 - sq_q2\n",
    "        rotation_matrix[:, 15] = 1\n",
    "        rotation_matrix = rotation_matrix.reshape([np.shape(rotation_vector)[0], 4, 4])\n",
    "    elif return_size == 9:\n",
    "        rotation_matrix = np.zeros([np.shape(rotation_vector)[0], 9])\n",
    "        rotation_matrix[:, 0] = 1 - sq_q2 - sq_q3\n",
    "        rotation_matrix[:, 1] = q1_q2 - q3_q0\n",
    "        rotation_matrix[:, 2] = q1_q3 + q2_q0\n",
    "        rotation_matrix[:, 3] = q1_q2 + q3_q0\n",
    "        rotation_matrix[:, 4] = 1 - sq_q1 - sq_q3\n",
    "        rotation_matrix[:, 5] = q2_q3 - q1_q0\n",
    "        rotation_matrix[:, 6] = q1_q3 - q2_q0\n",
    "        rotation_matrix[:, 7] = q2_q3 + q1_q0\n",
    "        rotation_matrix[:, 8] = 1 - sq_q1 - sq_q2\n",
    "        rotation_matrix = rotation_matrix.reshape([np.shape(rotation_vector)[0], 3, 3])\n",
    "    return rotation_matrix\n",
    "def getOrientation(rotation_matrix):\n",
    "    orientation = np.zeros(3)  # Azimuth, pitch, roll\n",
    "    orientation[0] = np.arctan2(rotation_matrix[0][1], rotation_matrix[1][1])\n",
    "    orientation[1] = np.arcsin(-rotation_matrix[2][1])\n",
    "    orientation[2] = np.arctan2(-rotation_matrix[2][0], rotation_matrix[2][2])\n",
    "    return orientation"
   ]
  },
  {
   "cell_type": "code",
   "execution_count": 2,
   "id": "sublime-bulgaria",
   "metadata": {},
   "outputs": [],
   "source": [
    "import os\n",
    "\n",
    "import matplotlib.pyplot as plt\n",
    "import numpy as np\n",
    "import pandas as pd\n",
    "\n",
    "%matplotlib widget"
   ]
  },
  {
   "cell_type": "code",
   "execution_count": 3,
   "id": "compound-venice",
   "metadata": {},
   "outputs": [
    {
     "name": "stdout",
     "output_type": "stream",
     "text": [
      "['1233_00.csv', '1233_01.csv', '1250_00.csv', '1250_01.csv', '1251_00.csv', '1251_01.csv']\n"
     ]
    }
   ],
   "source": [
    "data_path = \"data/mag/210311/\"\n",
    "file_list = os.listdir(data_path)\n",
    "file_list_csv = [file for file in file_list if file.endswith(\".csv\")]\n",
    "print(file_list_csv)"
   ]
  },
  {
   "cell_type": "code",
   "execution_count": 4,
   "id": "reasonable-meaning",
   "metadata": {},
   "outputs": [],
   "source": [
    "raw_list = []\n",
    "for file in file_list_csv:\n",
    "    raw_list.append(pd.read_csv(data_path + file, header=None).to_numpy())"
   ]
  },
  {
   "cell_type": "code",
   "execution_count": 5,
   "id": "confidential-biography",
   "metadata": {},
   "outputs": [],
   "source": [
    "time_list = []\n",
    "mag_raw_list = []\n",
    "game_vec_list = []\n",
    "for raw in raw_list:\n",
    "    time_col = [0]\n",
    "    mag_raw_col = [7, 8, 9, 10, 11, 12]\n",
    "    game_vec_col = [13, 14, 15, 16] \n",
    "    time_list.append(raw[:,time_col].reshape((-1,1)).astype(np.float32))\n",
    "    mag_raw_list.append(raw[:,mag_raw_col].astype(np.float32))\n",
    "    game_vec_list.append(raw[:,game_vec_col].astype(np.float32))"
   ]
  },
  {
   "cell_type": "code",
   "execution_count": 16,
   "id": "bibliographic-heather",
   "metadata": {},
   "outputs": [],
   "source": [
    "mag_list = []\n",
    "for mag_raw in mag_raw_list:\n",
    "    mag_list.append(mag_raw[:, :3] - mag_raw[:, 3:])\n",
    "tilted_mag_list = []\n",
    "for mag, game_vec in zip(mag_list, game_vec_list):\n",
    "    tilted_mag = np.matmul(getRotationMatrixFromVector(game_vec, 9), mag.reshape([-1, 3, 1]))\n",
    "    tilted_mag_list.append(tilted_mag.reshape([-1, 3]))\n",
    "feat_list = []\n",
    "for time, tilted_mag in zip(time_list, tilted_mag_list):\n",
    "    mag_xy = np.sqrt(np.sum(tilted_mag[:,:2]**2, axis=1)).reshape([-1, 1])\n",
    "    feat_list.append(np.concatenate((time, mag_xy, tilted_mag[:, 2].reshape([-1, 1])), axis = 1))"
   ]
  },
  {
   "cell_type": "code",
   "execution_count": 32,
   "id": "brief-local",
   "metadata": {},
   "outputs": [
    {
     "data": {
      "application/vnd.jupyter.widget-view+json": {
       "model_id": "5ac70509cda14e4ab8ee3c9ce2af8244",
       "version_major": 2,
       "version_minor": 0
      },
      "text/plain": [
       "Canvas(toolbar=Toolbar(toolitems=[('Home', 'Reset original view', 'home', 'home'), ('Back', 'Back to previous …"
      ]
     },
     "metadata": {},
     "output_type": "display_data"
    }
   ],
   "source": [
    "plt.figure()\n",
    "color = ['indigo', 'm']\n",
    "for idx, feat in enumerate(feat_list):\n",
    "    plt.scatter(feat[:,1], feat[:,2], label=file_list_csv[idx][:-4], c = color[idx])\n",
    "    if idx==1:\n",
    "        break\n",
    "plt.title('mag comparison')\n",
    "plt.legend()\n",
    "plt.show()"
   ]
  },
  {
   "cell_type": "code",
   "execution_count": 36,
   "id": "hired-medicine",
   "metadata": {},
   "outputs": [
    {
     "data": {
      "application/vnd.jupyter.widget-view+json": {
       "model_id": "a9d1ea4009394e71920bbca7d011313c",
       "version_major": 2,
       "version_minor": 0
      },
      "text/plain": [
       "Canvas(toolbar=Toolbar(toolitems=[('Home', 'Reset original view', 'home', 'home'), ('Back', 'Back to previous …"
      ]
     },
     "metadata": {},
     "output_type": "display_data"
    }
   ],
   "source": [
    "plt.figure()\n",
    "color = ['indigo', 'm']\n",
    "for idx, feat in enumerate(feat_list):\n",
    "    if idx<=1:\n",
    "        continue\n",
    "    plt.scatter(feat[:,1], feat[:,2], label=file_list_csv[idx][:-4], c = color[idx-2])\n",
    "    if idx==3:\n",
    "        break\n",
    "plt.title('mag comparison')\n",
    "plt.legend()\n",
    "plt.show()"
   ]
  },
  {
   "cell_type": "code",
   "execution_count": 37,
   "id": "postal-stephen",
   "metadata": {},
   "outputs": [
    {
     "data": {
      "application/vnd.jupyter.widget-view+json": {
       "model_id": "11143424ca644e3babc24f25cfccdd89",
       "version_major": 2,
       "version_minor": 0
      },
      "text/plain": [
       "Canvas(toolbar=Toolbar(toolitems=[('Home', 'Reset original view', 'home', 'home'), ('Back', 'Back to previous …"
      ]
     },
     "metadata": {},
     "output_type": "display_data"
    }
   ],
   "source": [
    "plt.figure()\n",
    "color = ['indigo', 'm']\n",
    "for idx, feat in enumerate(feat_list):\n",
    "    if idx<=3:\n",
    "        continue\n",
    "    plt.scatter(feat[:,1], feat[:,2], label=file_list_csv[idx][:-4], c = color[idx-4])\n",
    "    if idx==5:\n",
    "        break\n",
    "plt.title('mag comparison')\n",
    "plt.legend()\n",
    "plt.show()"
   ]
  },
  {
   "cell_type": "code",
   "execution_count": 22,
   "id": "celtic-geneva",
   "metadata": {},
   "outputs": [
    {
     "data": {
      "application/vnd.jupyter.widget-view+json": {
       "model_id": "3420f528c27e4a8291e47480f4a97647",
       "version_major": 2,
       "version_minor": 0
      },
      "text/plain": [
       "Canvas(toolbar=Toolbar(toolitems=[('Home', 'Reset original view', 'home', 'home'), ('Back', 'Back to previous …"
      ]
     },
     "metadata": {},
     "output_type": "display_data"
    },
    {
     "name": "stdout",
     "output_type": "stream",
     "text": [
      "\n",
      "\n",
      "\n",
      "\n",
      "\n",
      "\n"
     ]
    }
   ],
   "source": [
    "plt.figure()\n",
    "color = ['indigo', 'indigo', 'm', 'm', 'gold','gold']\n",
    "for idx, feat in enumerate(feat_list):\n",
    "    plt.scatter(feat[:,1], feat[:,2], label=file_list_csv[idx][:-4], c = color[idx])\n",
    "plt.title('mag comparison')\n",
    "plt.legend()\n",
    "plt.show()"
   ]
  },
  {
   "cell_type": "code",
   "execution_count": 31,
   "id": "cardiac-teddy",
   "metadata": {},
   "outputs": [
    {
     "data": {
      "application/vnd.jupyter.widget-view+json": {
       "model_id": "da1c29937a17471ea350d8f42f090909",
       "version_major": 2,
       "version_minor": 0
      },
      "text/plain": [
       "Canvas(toolbar=Toolbar(toolitems=[('Home', 'Reset original view', 'home', 'home'), ('Back', 'Back to previous …"
      ]
     },
     "metadata": {},
     "output_type": "display_data"
    }
   ],
   "source": [
    "plt.figure()\n",
    "color = ['indigo', 'indigo', 'm', 'm', 'gold','gold']\n",
    "for idx, feat in enumerate(feat_list):\n",
    "    addi = np.shape(feat)[0]%50\n",
    "    new_feat = feat[:-addi].reshape([-1,50,3])\n",
    "    new_feat_mean = np.mean(new_feat, axis=1)\n",
    "    plt.scatter(new_feat_mean[:,1], new_feat_mean[:,2], label=file_list_csv[idx][:-4], c = color[idx])\n",
    "plt.title('mag comparison')\n",
    "plt.legend()\n",
    "plt.show()"
   ]
  },
  {
   "cell_type": "code",
   "execution_count": null,
   "id": "descending-county",
   "metadata": {},
   "outputs": [],
   "source": []
  }
 ],
 "metadata": {
  "kernelspec": {
   "display_name": "Python 3",
   "language": "python",
   "name": "python3"
  },
  "language_info": {
   "codemirror_mode": {
    "name": "ipython",
    "version": 3
   },
   "file_extension": ".py",
   "mimetype": "text/x-python",
   "name": "python",
   "nbconvert_exporter": "python",
   "pygments_lexer": "ipython3",
   "version": "3.7.9"
  }
 },
 "nbformat": 4,
 "nbformat_minor": 5
}
