{
 "cells": [
  {
   "cell_type": "code",
   "execution_count": 1,
   "id": "equivalent-craft",
   "metadata": {},
   "outputs": [],
   "source": [
    "import pandas as pd\n",
    "import numpy as np\n",
    "import os\n",
    "\n",
    "from module.file import download_blob\n",
    "from module.file import explicit\n",
    "from module import in_fun\n",
    "from matplotlib import pyplot as plt\n",
    "\n",
    "\n",
    "%matplotlib widget"
   ]
  },
  {
   "cell_type": "markdown",
   "id": "arranged-suicide",
   "metadata": {},
   "source": [
    "# Credential Checkexplicit(\n",
    "If this cell is not executed, call Hankyeol for credential"
   ]
  },
  {
   "cell_type": "code",
   "execution_count": 2,
   "id": "light-bikini",
   "metadata": {},
   "outputs": [
    {
     "name": "stdout",
     "output_type": "stream",
     "text": [
      "[<Bucket: staging.where-collect.appspot.com>, <Bucket: where-collect.appspot.com>]\n"
     ]
    }
   ],
   "source": [
    "explicit()"
   ]
  },
  {
   "cell_type": "code",
   "execution_count": 3,
   "id": "wired-nicaragua",
   "metadata": {},
   "outputs": [
    {
     "name": "stdin",
     "output_type": "stream",
     "text": [
      " 20210325\n"
     ]
    }
   ],
   "source": [
    "date=input() # ex) 20210323"
   ]
  },
  {
   "cell_type": "code",
   "execution_count": 4,
   "id": "female-decade",
   "metadata": {},
   "outputs": [
    {
     "name": "stdout",
     "output_type": "stream",
     "text": [
      "Blob data/20210325/customscenario01_20210325113720.csv downloaded.\n"
     ]
    }
   ],
   "source": [
    "download_blob(date)"
   ]
  },
  {
   "cell_type": "code",
   "execution_count": 5,
   "id": "humanitarian-pickup",
   "metadata": {},
   "outputs": [
    {
     "name": "stdout",
     "output_type": "stream",
     "text": [
      "['customscenario01_20210325113720.csv']\n"
     ]
    }
   ],
   "source": [
    "import os\n",
    "path = f\"data/realtime/{date}/\"\n",
    "file_list = os.listdir(path)\n",
    "file_list_csv = [file for file in file_list if file.endswith(\".csv\")]\n",
    "print(file_list_csv)"
   ]
  },
  {
   "cell_type": "code",
   "execution_count": 6,
   "id": "curious-radar",
   "metadata": {},
   "outputs": [],
   "source": [
    "csv_list = []\n",
    "for file in file_list_csv:\n",
    "    csv_list.append(pd.read_csv(path + file, header=None))"
   ]
  },
  {
   "cell_type": "code",
   "execution_count": 7,
   "id": "defined-russian",
   "metadata": {},
   "outputs": [],
   "source": [
    "beacon_list=[11,12,13]\n",
    "parsed = in_fun.parser(csv_list[0].to_numpy(), beacon_list)"
   ]
  },
  {
   "cell_type": "code",
   "execution_count": 8,
   "id": "current-pottery",
   "metadata": {},
   "outputs": [
    {
     "data": {
      "application/vnd.jupyter.widget-view+json": {
       "model_id": "8015828db4ad4fcfb1a07403a734809c",
       "version_major": 2,
       "version_minor": 0
      },
      "text/plain": [
       "Canvas(toolbar=Toolbar(toolitems=[('Home', 'Reset original view', 'home', 'home'), ('Back', 'Back to previous …"
      ]
     },
     "metadata": {},
     "output_type": "display_data"
    },
    {
     "data": {
      "text/plain": [
       "[<matplotlib.lines.Line2D at 0x7f7a105cc3d0>]"
      ]
     },
     "execution_count": 8,
     "metadata": {},
     "output_type": "execute_result"
    }
   ],
   "source": [
    "plt.figure()\n",
    "plt.title(f\"beacon{beacon_list[0]}\")\n",
    "plt.plot(parsed[:,0], parsed[:,23+0])"
   ]
  },
  {
   "cell_type": "code",
   "execution_count": 9,
   "id": "placed-pillow",
   "metadata": {},
   "outputs": [
    {
     "data": {
      "application/vnd.jupyter.widget-view+json": {
       "model_id": "06268e2cc1f24be1b5b08c4cdd72440c",
       "version_major": 2,
       "version_minor": 0
      },
      "text/plain": [
       "Canvas(toolbar=Toolbar(toolitems=[('Home', 'Reset original view', 'home', 'home'), ('Back', 'Back to previous …"
      ]
     },
     "metadata": {},
     "output_type": "display_data"
    },
    {
     "data": {
      "text/plain": [
       "[<matplotlib.lines.Line2D at 0x7f7a0e806550>]"
      ]
     },
     "execution_count": 9,
     "metadata": {},
     "output_type": "execute_result"
    }
   ],
   "source": [
    "plt.figure()\n",
    "plt.title(f\"beacon{beacon_list[1]}\")\n",
    "plt.plot(parsed[:,0], parsed[:,23+1])"
   ]
  },
  {
   "cell_type": "code",
   "execution_count": 10,
   "id": "representative-bailey",
   "metadata": {},
   "outputs": [
    {
     "data": {
      "application/vnd.jupyter.widget-view+json": {
       "model_id": "d304cd04c34e486aa05ad25540278097",
       "version_major": 2,
       "version_minor": 0
      },
      "text/plain": [
       "Canvas(toolbar=Toolbar(toolitems=[('Home', 'Reset original view', 'home', 'home'), ('Back', 'Back to previous …"
      ]
     },
     "metadata": {},
     "output_type": "display_data"
    },
    {
     "data": {
      "text/plain": [
       "[<matplotlib.lines.Line2D at 0x7f7a105eaa10>]"
      ]
     },
     "execution_count": 10,
     "metadata": {},
     "output_type": "execute_result"
    }
   ],
   "source": [
    "plt.figure()\n",
    "plt.title(f\"beacon{beacon_list[2]}\")\n",
    "plt.plot(parsed[:,0], parsed[:,23+2])"
   ]
  },
  {
   "cell_type": "code",
   "execution_count": null,
   "id": "unusual-validity",
   "metadata": {},
   "outputs": [],
   "source": []
  }
 ],
 "metadata": {
  "kernelspec": {
   "display_name": "Python 3",
   "language": "python",
   "name": "python3"
  },
  "language_info": {
   "codemirror_mode": {
    "name": "ipython",
    "version": 3
   },
   "file_extension": ".py",
   "mimetype": "text/x-python",
   "name": "python",
   "nbconvert_exporter": "python",
   "pygments_lexer": "ipython3",
   "version": "3.7.9"
  }
 },
 "nbformat": 4,
 "nbformat_minor": 5
}
