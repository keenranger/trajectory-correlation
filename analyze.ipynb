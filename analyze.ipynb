{
 "cells": [
  {
   "cell_type": "code",
   "execution_count": 1,
   "metadata": {},
   "outputs": [],
   "source": [
    "import numpy as np\n",
    "import pandas as pd\n",
    "import matplotlib.pyplot as plt\n",
    "%matplotlib widget\n",
    "plt.rcParams['figure.figsize'] = [10, 10]"
   ]
  },
  {
   "cell_type": "code",
   "execution_count": 2,
   "metadata": {},
   "outputs": [],
   "source": [
    "color_list = [\"r\", \"g\", \"b\"]\n",
    "scen_list = range(1, 10)\n",
    "cs_list = []\n",
    "hk_list = []\n",
    "for scen in scen_list:\n",
    "    cs_list.append(\n",
    "        pd.read_csv(\"data/201215/cs/PDR_scen\" + str(scen) + \".txt\", header=None)\n",
    "    )\n",
    "    hk_list.append(\n",
    "        pd.read_csv(\"data/201215/hk/PDR_scen\" + str(scen) + \".txt\", header=None)\n",
    "    )"
   ]
  },
  {
   "cell_type": "markdown",
   "metadata": {},
   "source": [
    "# Test 1~3\n",
    "\n",
    "## Objective\n",
    "\n",
    "- To check same RSSI comes out on same trajectory\n",
    "- To check different trajectory shows different RSSI pattern\n",
    "\n",
    "## Expected result: three pair of signals\n",
    "\n",
    "- Each pair shows similar signal since they collect on same trajectory at same time.\n",
    "- Test 1 shows higher RSSI on beacons 13, and Test 3 shows higher RSSI on beacon 14\n",
    "\n",
    "## How to show result\n",
    "\n",
    "- Plot all result on one figure\n",
    "- compare user with line/dotted line\n",
    "- compare scenrario with color"
   ]
  },
  {
   "cell_type": "code",
   "execution_count": 3,
   "metadata": {},
   "outputs": [
    {
     "data": {
      "application/vnd.jupyter.widget-view+json": {
       "model_id": "a211fcc1f5e84b6fb4b0beed4872d8f3",
       "version_major": 2,
       "version_minor": 0
      },
      "text/plain": [
       "Canvas(toolbar=Toolbar(toolitems=[('Home', 'Reset original view', 'home', 'home'), ('Back', 'Back to previous …"
      ]
     },
     "metadata": {},
     "output_type": "display_data"
    }
   ],
   "source": [
    "plt.figure()\n",
    "for test_idx, color in enumerate(color_list):\n",
    "    plt.plot(cs_list[test_idx][12], color+\"--\", label=\"test \" + str(test_idx + 1) +\" cs\")\n",
    "    plt.plot(hk_list[test_idx][12], color, label=\"test \" + str(test_idx + 1)+\" hk\")\n",
    "plt.tight_layout()\n",
    "plt.title(\"beacon 13\")\n",
    "plt.legend()\n",
    "plt.show()"
   ]
  },
  {
   "cell_type": "code",
   "execution_count": 4,
   "metadata": {},
   "outputs": [
    {
     "data": {
      "application/vnd.jupyter.widget-view+json": {
       "model_id": "7cb8315863ee4e3e92477d7528d64dfd",
       "version_major": 2,
       "version_minor": 0
      },
      "text/plain": [
       "Canvas(toolbar=Toolbar(toolitems=[('Home', 'Reset original view', 'home', 'home'), ('Back', 'Back to previous …"
      ]
     },
     "metadata": {},
     "output_type": "display_data"
    }
   ],
   "source": [
    "plt.figure()\n",
    "for test_idx, color in enumerate(color_list):\n",
    "    plt.plot(cs_list[test_idx][12], color+\"--\", label=\"test \" + str(test_idx + 1) +\" cs\")\n",
    "    plt.plot(hk_list[test_idx][12], color, label=\"test \" + str(test_idx + 1)+\" hk\")\n",
    "plt.tight_layout()\n",
    "plt.title(\"beacon 14\")\n",
    "plt.legend()\n",
    "plt.show()"
   ]
  },
  {
   "cell_type": "markdown",
   "metadata": {},
   "source": [
    "# Test 4~6\n",
    "\n",
    "## Objective\n",
    "\n",
    "- To check RSSi can be divided upon distance.\n",
    "\n",
    "## Expected result:\n",
    "\n",
    "- Considering Beacon 13, there are three trajectory : closest, middle, furthest\n",
    "- RSSI difference between closest and furthest may be the biggest\n",
    "- RSSI difference between closest and middle may be the followed\n",
    "- RSSI difference between middle and furthest may be the smallest\n",
    "\n",
    "## How to show result\n",
    "\n",
    "- Plot all result on one figure\n",
    "- compare user with line/dotted line\n",
    "- compare scenrario with color"
   ]
  },
  {
   "cell_type": "code",
   "execution_count": 5,
   "metadata": {},
   "outputs": [
    {
     "data": {
      "application/vnd.jupyter.widget-view+json": {
       "model_id": "28b3e0775a8248e4b25aa56e5aec8c23",
       "version_major": 2,
       "version_minor": 0
      },
      "text/plain": [
       "Canvas(toolbar=Toolbar(toolitems=[('Home', 'Reset original view', 'home', 'home'), ('Back', 'Back to previous …"
      ]
     },
     "metadata": {},
     "output_type": "display_data"
    }
   ],
   "source": [
    "plt.figure()\n",
    "for test_idx, color in enumerate(color_list):\n",
    "    plt.plot(cs_list[test_idx][12], color+\"--\", label=\"test \" + str(test_idx + 4) +\" cs\")\n",
    "    plt.plot(hk_list[test_idx][12], color, label=\"test \" + str(test_idx + 4)+\" hk\")\n",
    "plt.tight_layout()\n",
    "plt.title(\"beacon 13\")\n",
    "plt.legend()\n",
    "plt.show()"
   ]
  },
  {
   "cell_type": "code",
   "execution_count": 6,
   "metadata": {},
   "outputs": [
    {
     "data": {
      "application/vnd.jupyter.widget-view+json": {
       "model_id": "23bca5e0f3f44ec7b02ea9bd3af06772",
       "version_major": 2,
       "version_minor": 0
      },
      "text/plain": [
       "Canvas(toolbar=Toolbar(toolitems=[('Home', 'Reset original view', 'home', 'home'), ('Back', 'Back to previous …"
      ]
     },
     "metadata": {},
     "output_type": "display_data"
    }
   ],
   "source": [
    "plt.figure()\n",
    "for test_idx, color in enumerate(color_list):\n",
    "    plt.plot(cs_list[test_idx][12], color+\"--\", label=\"test \" + str(test_idx + 4) +\" cs\")\n",
    "    plt.plot(hk_list[test_idx][12], color, label=\"test \" + str(test_idx + 4)+\" hk\")\n",
    "plt.tight_layout()\n",
    "plt.title(\"beacon 14\")\n",
    "plt.legend()\n",
    "plt.show()"
   ]
  },
  {
   "cell_type": "markdown",
   "metadata": {},
   "source": [
    "# Test 7~9\n",
    "\n",
    "## Objective\n",
    "\n",
    "- To check whethere there is difference between reverse directions or not\n",
    "\n",
    "## Expected result:\n",
    "\n",
    "- If reversed one is reversed again, it would be similar with normal direction\n",
    "- Check RSSI pattern when not reversed\n",
    "\n",
    "## How to show result\n",
    "\n",
    "- Plot all result on one figure\n",
    "- compare user with line/dotted line\n",
    "- compare scenrario with color"
   ]
  },
  {
   "cell_type": "code",
   "execution_count": 7,
   "metadata": {},
   "outputs": [
    {
     "data": {
      "application/vnd.jupyter.widget-view+json": {
       "model_id": "ca08f787b47840cc9012a682b8856c59",
       "version_major": 2,
       "version_minor": 0
      },
      "text/plain": [
       "Canvas(toolbar=Toolbar(toolitems=[('Home', 'Reset original view', 'home', 'home'), ('Back', 'Back to previous …"
      ]
     },
     "metadata": {},
     "output_type": "display_data"
    }
   ],
   "source": [
    "plt.figure()\n",
    "for test_idx, color in enumerate(color_list):\n",
    "    plt.plot(cs_list[test_idx][12], color+\"--\", label=\"test \" + str(test_idx + 7) +\" cs\")\n",
    "    plt.plot(hk_list[test_idx][12], color, label=\"test \" + str(test_idx + 7)+\" hk\")\n",
    "plt.tight_layout()\n",
    "plt.title(\"beacon 13\")\n",
    "plt.legend()\n",
    "plt.show()"
   ]
  },
  {
   "cell_type": "code",
   "execution_count": 8,
   "metadata": {},
   "outputs": [
    {
     "data": {
      "application/vnd.jupyter.widget-view+json": {
       "model_id": "002ae80832c14510bb0c4722c7ea0e3b",
       "version_major": 2,
       "version_minor": 0
      },
      "text/plain": [
       "Canvas(toolbar=Toolbar(toolitems=[('Home', 'Reset original view', 'home', 'home'), ('Back', 'Back to previous …"
      ]
     },
     "metadata": {},
     "output_type": "display_data"
    }
   ],
   "source": [
    "plt.figure()\n",
    "for test_idx, color in enumerate(color_list):\n",
    "    plt.plot(cs_list[test_idx][12], color+\"--\", label=\"test \" + str(test_idx + 7) +\" cs\")\n",
    "    plt.plot(hk_list[test_idx][12], color, label=\"test \" + str(test_idx + 7)+\" hk\")\n",
    "plt.tight_layout()\n",
    "plt.title(\"beacon 14\")\n",
    "plt.legend()\n",
    "plt.show()"
   ]
  },
  {
   "cell_type": "code",
   "execution_count": null,
   "metadata": {},
   "outputs": [],
   "source": []
  }
 ],
 "metadata": {
  "kernelspec": {
   "display_name": "Python 3",
   "language": "python",
   "name": "python3"
  },
  "language_info": {
   "codemirror_mode": {
    "name": "ipython",
    "version": 3
   },
   "file_extension": ".py",
   "mimetype": "text/x-python",
   "name": "python",
   "nbconvert_exporter": "python",
   "pygments_lexer": "ipython3",
   "version": "3.9.1"
  }
 },
 "nbformat": 4,
 "nbformat_minor": 4
}
