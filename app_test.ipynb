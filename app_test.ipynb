{
 "cells": [
  {
   "cell_type": "code",
   "execution_count": 19,
   "id": "smaller-bathroom",
   "metadata": {},
   "outputs": [],
   "source": [
    "import time\n",
    "import os\n",
    "import numpy as np\n",
    "import pandas as pd\n",
    "from module import in_fun\n",
    "from matplotlib import pyplot as plt\n",
    "from module.torch import BinaryClassifier\n",
    "from datetime import datetime\n",
    "\n",
    "%matplotlib widget"
   ]
  },
  {
   "cell_type": "code",
   "execution_count": 20,
   "id": "widespread-scotland",
   "metadata": {},
   "outputs": [],
   "source": [
    "import torch\n",
    "import torch.nn as nn\n",
    "import torch.nn.functional as F\n",
    "import torch.optim as optim\n",
    "from torch.utils.data import DataLoader, Dataset"
   ]
  },
  {
   "cell_type": "code",
   "execution_count": 21,
   "id": "instant-spotlight",
   "metadata": {},
   "outputs": [
    {
     "name": "stdout",
     "output_type": "stream",
     "text": [
      "cpu\n"
     ]
    }
   ],
   "source": [
    "# device = torch.device(\"cuda:0\" if torch.cuda.is_available() else \"cpu\")\n",
    "device = torch.device(\"cpu\")\n",
    "\n",
    "print(device)"
   ]
  },
  {
   "cell_type": "code",
   "execution_count": 22,
   "id": "amateur-despite",
   "metadata": {},
   "outputs": [
    {
     "data": {
      "text/plain": [
       "<All keys matched successfully>"
      ]
     },
     "execution_count": 22,
     "metadata": {},
     "output_type": "execute_result"
    }
   ],
   "source": [
    "net_abs = BinaryClassifier(input_size = 9)\n",
    "net_diff = BinaryClassifier(input_size = 9)\n",
    "net_each = BinaryClassifier(input_size = 18)\n",
    "net_abs.load_state_dict(torch.load(\"./model/abs\"))\n",
    "net_diff.load_state_dict(torch.load(\"./model/diff\"))\n",
    "net_each.load_state_dict(torch.load(\"./model/each\"))"
   ]
  },
  {
   "cell_type": "code",
   "execution_count": 23,
   "id": "female-reliance",
   "metadata": {},
   "outputs": [
    {
     "name": "stdout",
     "output_type": "stream",
     "text": [
      "['1.csv', '2.csv']\n"
     ]
    }
   ],
   "source": [
    "data_path = \"data/app_test/06/\"\n",
    "file_list = os.listdir(data_path)\n",
    "file_list_csv = [file for file in file_list if file.endswith(\".csv\")]\n",
    "print(file_list_csv)"
   ]
  },
  {
   "cell_type": "code",
   "execution_count": 24,
   "id": "widespread-maryland",
   "metadata": {},
   "outputs": [],
   "source": [
    "data_list = []\n",
    "for file_csv in file_list_csv:\n",
    "    data_list.append(pd.read_csv(\n",
    "            data_path + file_csv,\n",
    "            header=None,\n",
    "        ).to_numpy())"
   ]
  },
  {
   "cell_type": "code",
   "execution_count": 25,
   "id": "closing-little",
   "metadata": {},
   "outputs": [
    {
     "data": {
      "application/vnd.jupyter.widget-view+json": {
       "model_id": "3118fd3c5cea4593a35d4bc981713e5c",
       "version_major": 2,
       "version_minor": 0
      },
      "text/plain": [
       "Canvas(toolbar=Toolbar(toolitems=[('Home', 'Reset original view', 'home', 'home'), ('Back', 'Back to previous …"
      ]
     },
     "metadata": {},
     "output_type": "display_data"
    },
    {
     "data": {
      "text/plain": [
       "<matplotlib.legend.Legend at 0x7fd31d43d450>"
      ]
     },
     "execution_count": 25,
     "metadata": {},
     "output_type": "execute_result"
    }
   ],
   "source": [
    "plt.figure()\n",
    "for idx, data in enumerate(data_list):\n",
    "    plt.scatter(pd.to_datetime(data[:,0]/1000, unit='s'), np.ones_like(data[:,0])*(idx+1), label = file_list_csv[idx], s = 5)\n",
    "plt.legend()"
   ]
  },
  {
   "cell_type": "code",
   "execution_count": 26,
   "id": "distant-candle",
   "metadata": {},
   "outputs": [
    {
     "data": {
      "application/vnd.jupyter.widget-view+json": {
       "model_id": "54b74ceb41e14fd9ab26ac5316eccf5c",
       "version_major": 2,
       "version_minor": 0
      },
      "text/plain": [
       "Canvas(toolbar=Toolbar(toolitems=[('Home', 'Reset original view', 'home', 'home'), ('Back', 'Back to previous …"
      ]
     },
     "metadata": {},
     "output_type": "display_data"
    },
    {
     "data": {
      "text/plain": [
       "<matplotlib.collections.PathCollection at 0x7fd31c867a90>"
      ]
     },
     "execution_count": 26,
     "metadata": {},
     "output_type": "execute_result"
    }
   ],
   "source": [
    "plt.figure()\n",
    "data=data_list[0]\n",
    "plt.scatter(pd.to_datetime(data[:,0]/1000, unit='s'), data[:,24], s = 5)\n"
   ]
  },
  {
   "cell_type": "markdown",
   "id": "adapted-immigration",
   "metadata": {},
   "source": [
    "# for idx, data in enumerate(data_list):\n",
    "    print(f\"{file_list_csv[idx][:-4]} start time : {datetime.fromtimestamp(data[0,0]/1000)}\")"
   ]
  },
  {
   "cell_type": "code",
   "execution_count": 9,
   "id": "sustained-poetry",
   "metadata": {},
   "outputs": [
    {
     "name": "stdout",
     "output_type": "stream",
     "text": [
      "2021-03-26 06:05:00\n",
      "1616738700.0\n",
      "2021-03-26 06:46:00\n",
      "1616741160.0\n",
      "(30798, 51)\n",
      "(0, 51)\n",
      "(22120, 51)\n",
      "(0, 51)\n",
      "(22619, 51)\n",
      "(0, 51)\n"
     ]
    }
   ],
   "source": [
    "start_time = datetime(2021, 3, 26, hour=6, minute=5, second=0)\n",
    "end_time = datetime(2021, 3, 26, hour=6, minute=46, second=0)\n",
    "start_timestamp = time.mktime(start_time.timetuple())\n",
    "end_timestamp = time.mktime(end_time.timetuple())\n",
    "print(start_time)\n",
    "print(start_timestamp)\n",
    "print(end_time)\n",
    "print(end_timestamp)\n",
    "for idx in np.arange(len(data_list)):\n",
    "    print(np.shape(data_list[idx]))\n",
    "    data_list[idx] = data_list[idx][data_list[idx][:,0] >= start_timestamp * 1000]\n",
    "    data_list[idx] = data_list[idx][data_list[idx][:,0] <= end_timestamp * 1000]\n",
    "    \n",
    "    print(np.shape(data_list[idx]))"
   ]
  },
  {
   "cell_type": "code",
   "execution_count": 10,
   "id": "raising-scale",
   "metadata": {},
   "outputs": [
    {
     "data": {
      "application/vnd.jupyter.widget-view+json": {
       "model_id": "360c8172825042c189ca07ddf7c1631f",
       "version_major": 2,
       "version_minor": 0
      },
      "text/plain": [
       "Canvas(toolbar=Toolbar(toolitems=[('Home', 'Reset original view', 'home', 'home'), ('Back', 'Back to previous …"
      ]
     },
     "metadata": {},
     "output_type": "display_data"
    },
    {
     "data": {
      "text/plain": [
       "<matplotlib.legend.Legend at 0x7fd31c978050>"
      ]
     },
     "execution_count": 10,
     "metadata": {},
     "output_type": "execute_result"
    }
   ],
   "source": [
    "plt.figure()\n",
    "for idx, data in enumerate(data_list):\n",
    "    plt.scatter(pd.to_datetime(data[:,0]/1000, unit='s'), np.ones_like(data[:,0])*(idx+1), label = file_list_csv[idx], s=5)\n",
    "plt.legend()"
   ]
  },
  {
   "cell_type": "code",
   "execution_count": 11,
   "id": "applicable-spectacular",
   "metadata": {},
   "outputs": [
    {
     "name": "stdout",
     "output_type": "stream",
     "text": [
      "(0, 32)\n",
      "(0, 32)\n",
      "(0, 32)\n"
     ]
    }
   ],
   "source": [
    "parsed_list = []\n",
    "beacon_list = [1, 2, 3, 4, 10, 6, 7, 8, 9]\n",
    "for data in data_list:\n",
    "    parsed_list.append(in_fun.parser(data, beacon_list, beacon_length=7))\n",
    "    print(np.shape(parsed_list[-1]))    "
   ]
  },
  {
   "cell_type": "code",
   "execution_count": 12,
   "id": "latest-importance",
   "metadata": {},
   "outputs": [
    {
     "data": {
      "application/vnd.jupyter.widget-view+json": {
       "model_id": "0ad35b8c914e44b3902bffce204bfd48",
       "version_major": 2,
       "version_minor": 0
      },
      "text/plain": [
       "Canvas(toolbar=Toolbar(toolitems=[('Home', 'Reset original view', 'home', 'home'), ('Back', 'Back to previous …"
      ]
     },
     "metadata": {},
     "output_type": "display_data"
    },
    {
     "name": "stdout",
     "output_type": "stream",
     "text": [
      "(0, 9)\n"
     ]
    },
    {
     "data": {
      "text/plain": [
       "<matplotlib.legend.Legend at 0x7fd41bb19610>"
      ]
     },
     "execution_count": 12,
     "metadata": {},
     "output_type": "execute_result"
    }
   ],
   "source": [
    "plt.figure()\n",
    "temp = parsed_list[0][:, -9:]\n",
    "print(np.shape(temp))\n",
    "plt.plot(temp[:,7], label=f\"beacon {idx+1}\")\n",
    "plt.legend()\n"
   ]
  },
  {
   "cell_type": "code",
   "execution_count": 13,
   "id": "sustainable-pointer",
   "metadata": {},
   "outputs": [],
   "source": [
    "cur_timestamp = int(start_timestamp)\n",
    "temp_list = [[],[],[],[],[],[],[]]\n",
    "while cur_timestamp < end_timestamp:\n",
    "    cur_list = []\n",
    "    confirmed=np.zeros([0,9])\n",
    "    for idx, parsed in enumerate(parsed_list):\n",
    "        parsed = parsed[parsed[:, 0] >= cur_timestamp * 1000]\n",
    "        parsed = parsed[parsed[:, 0] <= (cur_timestamp + 30) * 1000]\n",
    "        if len(parsed) is 0:\n",
    "            continue\n",
    "        if idx is 0:\n",
    "            confirmed = np.max(parsed[:, -9:], axis = 0).reshape([1, 9])\n",
    "            confirmed += 200\n",
    "            confirmed = confirmed / 200\n",
    "        elif np.shape(confirmed)[0] is not 0 and np.sum(confirmed) is not 0:\n",
    "            contact = np.max(parsed[:, -9:], axis = 0).reshape([1, 9])\n",
    "            contact += 200\n",
    "            contact = contact / 200\n",
    "            if np.shape(contact)[0] is not  0:\n",
    "                res_abs, res_diff, res_each = in_fun.matcher(confirmed, contact)\n",
    "                result_abs = net_abs(torch.from_numpy(res_abs).float())\n",
    "                if result_abs >= 0.5:\n",
    "#                     print(f\"{file_list_csv[idx][:-4]} confirmed at {datetime.fromtimestamp(cur_timestamp)}\")\n",
    "                    pass\n",
    "                result_diff = net_diff(torch.from_numpy(res_diff).float())\n",
    "                if result_diff >= 0.5:\n",
    "#                     print(res_diff)\n",
    "#                     print(f\"{file_list_csv[idx][:-4]} contacted at {datetime.fromtimestamp(cur_timestamp)}\")\n",
    "                    pass\n",
    "            \n",
    "                result_each = net_each(torch.from_numpy(res_each).float())\n",
    "                if result_each >= 0.5:\n",
    "                    print(res_each)\n",
    "                    print(f\"{file_list_csv[idx][:-4]} contacted at {datetime.fromtimestamp(cur_timestamp)}\")\n",
    "                    print(cur_timestamp)\n",
    "                    temp_list[idx-1].append(datetime.fromtimestamp(cur_timestamp))\n",
    "                    pass\n",
    "    \n",
    "                    \n",
    "    cur_timestamp += 30"
   ]
  },
  {
   "cell_type": "code",
   "execution_count": null,
   "id": "synthetic-republican",
   "metadata": {},
   "outputs": [],
   "source": []
  }
 ],
 "metadata": {
  "kernelspec": {
   "display_name": "Python 3",
   "language": "python",
   "name": "python3"
  },
  "language_info": {
   "codemirror_mode": {
    "name": "ipython",
    "version": 3
   },
   "file_extension": ".py",
   "mimetype": "text/x-python",
   "name": "python",
   "nbconvert_exporter": "python",
   "pygments_lexer": "ipython3",
   "version": "3.7.9"
  }
 },
 "nbformat": 4,
 "nbformat_minor": 5
}
